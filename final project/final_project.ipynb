{
 "cells": [
  {
   "cell_type": "markdown",
   "id": "c9379034-43ae-4c6c-8879-631bd55888d2",
   "metadata": {
    "tags": []
   },
   "source": [
    "# Setup"
   ]
  },
  {
   "cell_type": "code",
   "execution_count": 68,
   "id": "7b51412f-a4e1-4f63-aa86-819ac3338a6f",
   "metadata": {},
   "outputs": [],
   "source": [
    "import torch\n",
    "import torch.nn as nn\n",
    "import torch.optim as optim\n",
    "import torch.nn.functional as F\n",
    "from torch.utils.data import DataLoader, random_split\n",
    "\n",
    "import torchvision\n",
    "\n",
    "import cv2\n",
    "import numpy as np\n",
    "import matplotlib.pyplot as plt"
   ]
  },
  {
   "cell_type": "code",
   "execution_count": 80,
   "id": "47090d95-1038-4869-ae79-a587e8ad9a79",
   "metadata": {},
   "outputs": [],
   "source": [
    "# define utility functions\n",
    "\n",
    "def apply_field(img, field):\n",
    "    \"\"\"Applies specified deformation to an image.\"\"\"\n",
    "    img = img.numpy()\n",
    "    print(img.shape)\n",
    "    \n",
    "    # set up adjusted coordinates\n",
    "    _, _, h, w = img.shape\n",
    "    x, y = np.meshgrid(np.arange(w), np.arange(h))\n",
    "    coords = np.stack((x, y), axis=-1)\n",
    "    coords_adj = coords + field\n",
    "\n",
    "    # remap pixels\n",
    "    img_adj = cv2.remap(img, coords_adj[:,:,0].astype(np.float32),\n",
    "                        coords_adj[:,:,1].astype(np.float32), \n",
    "                        interpolation=cv2.INTER_LINEAR)\n",
    "    \n",
    "    img_adj = torch.Tensor(img_adj)\n",
    "    return(img_adj)\n",
    "\n",
    "def loss(img1, img2, field, lmbda):\n",
    "    \"\"\"Calculates loss associated with image reconstruction and associated field.\"\"\"\n",
    "    \n",
    "    # approximate field gradient\n",
    "    diff_x = torch.diff(field[:,:,0], axis=0)\n",
    "    diff_y = torch.diff(field[:,:,1], axis=1)\n",
    "    diff_x = F.pad(diff_x, (0, 0, 1, 0), mode='constant')\n",
    "    diff_y = F.pad(diff_y, (1, 0, 0, 0), mode='constant')\n",
    "\n",
    "    # calculate loss\n",
    "    loss_sim = torch.sum((img1 - img2)**2)\n",
    "    loss_smooth = torch.sum(diff_x**2 + diff_y**2)\n",
    "    loss_total = loss_sim + lmbda * loss_smooth\n",
    "    return(loss_total.item())\n",
    "\n",
    "def show_images(img, img_adj, img_goal):\n",
    "    plt.figure(figsize=(12, 6))\n",
    "\n",
    "    plt.subplot(1, 3, 1)\n",
    "    plt.imshow(img)\n",
    "    plt.title('Original Image')\n",
    "\n",
    "    plt.subplot(1, 3, 2)\n",
    "    plt.imshow(img_adj)\n",
    "    plt.title('Estimated Image')\n",
    "\n",
    "    plt.subplot(1, 3, 3)\n",
    "    plt.imshow(img_goal)\n",
    "    plt.title('Goal Image')\n",
    "\n",
    "    plt.show()"
   ]
  },
  {
   "cell_type": "code",
   "execution_count": 81,
   "id": "022ac27f-7622-4ced-a53b-1b341079f785",
   "metadata": {},
   "outputs": [],
   "source": [
    "# define model architecture\n",
    "\n",
    "class DeformatioNet(nn.Module):\n",
    "    def __init__(self):\n",
    "        super(DeformatioNet, self).__init__()\n",
    "        \n",
    "        self.Encoder = nn.Sequential(\n",
    "                nn.Conv2d(2, 16, 2, stride=2),\n",
    "                nn.BatchNorm2d(16),\n",
    "                nn.LeakyReLU(),\n",
    "                nn.Dropout(0.5),\n",
    "            )\n",
    "\n",
    "        self.Decoder = nn.Sequential(\n",
    "                nn.ConvTranspose2d(16, 2, 2, stride=2),\n",
    "                nn.BatchNorm2d(2),\n",
    "                nn.Tanh()\n",
    "            )\n",
    "    \n",
    "    def forward(self, x, y):\n",
    "        # stack images\n",
    "        z = torch.cat((x,y),\n",
    "                      dim=1)\n",
    "        \n",
    "        # encode images into latent space\n",
    "        enc = self.Encoder(z)\n",
    "        \n",
    "        # decode latent space into deformation field\n",
    "        field = self.Decoder(enc)*28 # multiply by 28 to fit image dimensions\n",
    "\n",
    "        # (will use to adjust image in post)\n",
    "        return(field)"
   ]
  },
  {
   "cell_type": "markdown",
   "id": "b07f847a-885e-4f6f-9915-3627b0b3e729",
   "metadata": {},
   "source": [
    "# Model Training"
   ]
  },
  {
   "cell_type": "code",
   "execution_count": 52,
   "id": "02e45fef-f2fd-4c56-85e3-49ac0f16db32",
   "metadata": {},
   "outputs": [],
   "source": [
    "field = model(img, img)"
   ]
  },
  {
   "cell_type": "code",
   "execution_count": 3,
   "id": "b1bba5a8-bc6a-4c77-9ab9-e429ee6bac94",
   "metadata": {},
   "outputs": [],
   "source": [
    "# set hyperparameters\n",
    "batch_size = 1\n",
    "lmbda = 0.01"
   ]
  },
  {
   "cell_type": "code",
   "execution_count": 4,
   "id": "b6a80afb-88bd-4577-b64d-920b993ed336",
   "metadata": {},
   "outputs": [],
   "source": [
    "transform = torchvision.transforms.ToTensor()\n",
    "\n",
    "# load training data\n",
    "train = torchvision.datasets.MNIST(root='./data', train=True, download=True, transform=transform)\n",
    "train.data = train.data[train.targets == 7]\n",
    "train.targets = train.targets[train.targets == 7]\n",
    "\n",
    "# split into training/validation sets\n",
    "train, val = random_split(train, [int(0.8 * len(train)), len(train) - int(0.8 * len(train))])\n",
    "train_loader = DataLoader(train, batch_size=batch_size, shuffle=True)\n",
    "train_loader2 = DataLoader(train, batch_size=batch_size, shuffle=True)\n",
    "val_loader = DataLoader(val, batch_size=batch_size, shuffle=True)\n",
    "val_loader2 = DataLoader(val, batch_size=batch_size, shuffle=True)\n",
    "\n",
    "# load test data\n",
    "test = torchvision.datasets.MNIST(root='./data', train=False, download=True, transform=transform)\n",
    "test.data = test.data[test.targets == 7]\n",
    "test.targets = test.targets[test.targets == 7]\n",
    "test_loader = DataLoader(test, batch_size=batch_size, shuffle=True)\n",
    "test_loader2 = DataLoader(test, batch_size=batch_size, shuffle=True)"
   ]
  },
  {
   "cell_type": "code",
   "execution_count": 82,
   "id": "3a1425dc-e653-4309-80d9-2772e59928db",
   "metadata": {},
   "outputs": [
    {
     "name": "stdout",
     "output_type": "stream",
     "text": [
      "torch.Size([1, 1, 28, 28])\n",
      "torch.Size([1, 2, 28, 28])\n",
      "(1, 1, 28, 28)\n"
     ]
    },
    {
     "ename": "TypeError",
     "evalue": "Concatenation operation is not implemented for NumPy arrays, use np.concatenate() instead. Please do not rely on this error; it may not be given on all Python implementations.",
     "output_type": "error",
     "traceback": [
      "\u001b[0;31m---------------------------------------------------------------------------\u001b[0m",
      "\u001b[0;31mTypeError\u001b[0m                                 Traceback (most recent call last)",
      "Input \u001b[0;32mIn [82]\u001b[0m, in \u001b[0;36m<module>\u001b[0;34m\u001b[0m\n\u001b[1;32m     27\u001b[0m     \u001b[38;5;28;01mreturn\u001b[39;00m model\n\u001b[1;32m     29\u001b[0m model \u001b[38;5;241m=\u001b[39m DeformatioNet()\n\u001b[0;32m---> 30\u001b[0m model \u001b[38;5;241m=\u001b[39m \u001b[43mtrain_model\u001b[49m\u001b[43m(\u001b[49m\u001b[43mmodel\u001b[49m\u001b[43m,\u001b[49m\u001b[43m \u001b[49m\u001b[43mtrain_loader\u001b[49m\u001b[43m,\u001b[49m\u001b[43m \u001b[49m\u001b[43mtrain_loader2\u001b[49m\u001b[43m,\u001b[49m\u001b[43m \u001b[49m\u001b[38;5;241;43m0.01\u001b[39;49m\u001b[43m,\u001b[49m\u001b[43m \u001b[49m\u001b[38;5;241;43m0.001\u001b[39;49m\u001b[43m)\u001b[49m\n",
      "Input \u001b[0;32mIn [82]\u001b[0m, in \u001b[0;36mtrain_model\u001b[0;34m(model, train_loader, train_loader2, lmbda, log_lr)\u001b[0m\n\u001b[1;32m     18\u001b[0m \u001b[38;5;28mprint\u001b[39m(img\u001b[38;5;241m.\u001b[39mshape)\n\u001b[1;32m     19\u001b[0m \u001b[38;5;28mprint\u001b[39m(field\u001b[38;5;241m.\u001b[39mshape)\n\u001b[0;32m---> 21\u001b[0m img_adj \u001b[38;5;241m=\u001b[39m \u001b[43mapply_field\u001b[49m\u001b[43m(\u001b[49m\u001b[43mimg\u001b[49m\u001b[43m,\u001b[49m\u001b[43m \u001b[49m\u001b[43mfield\u001b[49m\u001b[43m)\u001b[49m\n\u001b[1;32m     23\u001b[0m loss_train \u001b[38;5;241m=\u001b[39m loss(img_adj, img_goal, field, lmbda)\n\u001b[1;32m     24\u001b[0m loss_train\u001b[38;5;241m.\u001b[39mbackward()\n",
      "Input \u001b[0;32mIn [80]\u001b[0m, in \u001b[0;36mapply_field\u001b[0;34m(img, field)\u001b[0m\n\u001b[1;32m     10\u001b[0m x, y \u001b[38;5;241m=\u001b[39m np\u001b[38;5;241m.\u001b[39mmeshgrid(np\u001b[38;5;241m.\u001b[39marange(w), np\u001b[38;5;241m.\u001b[39marange(h))\n\u001b[1;32m     11\u001b[0m coords \u001b[38;5;241m=\u001b[39m np\u001b[38;5;241m.\u001b[39mstack((x, y), axis\u001b[38;5;241m=\u001b[39m\u001b[38;5;241m-\u001b[39m\u001b[38;5;241m1\u001b[39m)\n\u001b[0;32m---> 12\u001b[0m coords_adj \u001b[38;5;241m=\u001b[39m \u001b[43mcoords\u001b[49m\u001b[43m \u001b[49m\u001b[38;5;241;43m+\u001b[39;49m\u001b[43m \u001b[49m\u001b[43mfield\u001b[49m\n\u001b[1;32m     14\u001b[0m \u001b[38;5;66;03m# remap pixels\u001b[39;00m\n\u001b[1;32m     15\u001b[0m img_adj \u001b[38;5;241m=\u001b[39m cv2\u001b[38;5;241m.\u001b[39mremap(img, coords_adj[:,:,\u001b[38;5;241m0\u001b[39m]\u001b[38;5;241m.\u001b[39mastype(np\u001b[38;5;241m.\u001b[39mfloat32),\n\u001b[1;32m     16\u001b[0m                     coords_adj[:,:,\u001b[38;5;241m1\u001b[39m]\u001b[38;5;241m.\u001b[39mastype(np\u001b[38;5;241m.\u001b[39mfloat32), \n\u001b[1;32m     17\u001b[0m                     interpolation\u001b[38;5;241m=\u001b[39mcv2\u001b[38;5;241m.\u001b[39mINTER_LINEAR)\n",
      "\u001b[0;31mTypeError\u001b[0m: Concatenation operation is not implemented for NumPy arrays, use np.concatenate() instead. Please do not rely on this error; it may not be given on all Python implementations."
     ]
    }
   ],
   "source": [
    "# training loop\n",
    "\n",
    "def train_model(model, train_loader, train_loader2, lmbda, log_lr):\n",
    "    \n",
    "    # set optimizer\n",
    "    optimizer = optim.Adam(model.parameters(), lr=10**log_lr, weight_decay=0)\n",
    "    \n",
    "    # run training loop\n",
    "    for batch_id, (img, _) in enumerate(train_loader):\n",
    "        print(f\"Batch {batch_id+1} of {len(train_loader)}\", end=\"\\r\")\n",
    "        \n",
    "        _, (img_goal, _) = next(enumerate(train_loader2))\n",
    "        \n",
    "        model.train()\n",
    "        optimizer.zero_grad()\n",
    "\n",
    "        field = model(img, img_goal)\n",
    "        print(img.shape)\n",
    "        print(field.shape)\n",
    "        \n",
    "        img_adj = apply_field(img, field)\n",
    "        \n",
    "        loss_train = loss(img_adj, img_goal, field, lmbda)\n",
    "        loss_train.backward()\n",
    "        optimizer.step()\n",
    "\n",
    "    return model\n",
    "\n",
    "model = DeformatioNet()\n",
    "model = train_model(model, train_loader, train_loader2, 0.01, 0.001)"
   ]
  },
  {
   "cell_type": "markdown",
   "id": "439dba85-23fd-49b1-9cbb-c611ec8fd60e",
   "metadata": {},
   "source": [
    "# Results"
   ]
  },
  {
   "cell_type": "code",
   "execution_count": 62,
   "id": "3b50b893-6448-4228-b19c-7b24fd78c2ba",
   "metadata": {},
   "outputs": [],
   "source": [
    "# generate random demo field\n",
    "field = np.random.uniform(-1, 1, (28, 28, 2))\n",
    "\n",
    "# set up demo images\n",
    "img, _ = next(iter(train_loader))\n",
    "img = img.squeeze()\n",
    "\n",
    "img_goal, _ = next(iter(train_loader2))\n",
    "img_goal = img_goal.squeeze()\n",
    "\n",
    "# apply deformation field\n",
    "field = model(img, img_goal).squeeze(0).detach().numpy()\n",
    "field = np.transpose(field, (1,2,0))\n",
    "img_adj = apply_field(img, field)"
   ]
  },
  {
   "cell_type": "code",
   "execution_count": 63,
   "id": "a964095d-d69e-4ea4-84e9-b07544212e91",
   "metadata": {},
   "outputs": [
    {
     "data": {
      "image/png": "[encoded data removed]",
      "text/plain": [
       "<Figure size 864x432 with 3 Axes>"
      ]
     },
     "metadata": {
      "needs_background": "light"
     },
     "output_type": "display_data"
    }
   ],
   "source": [
    "# display original/transformed images\n",
    "show_images(img, img_adj, img_goal)"
   ]
  },
  {
   "cell_type": "code",
   "execution_count": 6,
   "id": "7d3f3b7b-56cc-4aec-8a2e-45363424725d",
   "metadata": {},
   "outputs": [
    {
     "data": {
      "text/plain": [
       "25.15184783935547"
      ]
     },
     "execution_count": 6,
     "metadata": {},
     "output_type": "execute_result"
    }
   ],
   "source": [
    "img1 = torch.Tensor(img)\n",
    "img2 = torch.Tensor(img_adj)\n",
    "field2 = torch.Tensor(field)\n",
    "\n",
    "loss(img1, img2, field2, lmbda)"
   ]
  },
  {
   "cell_type": "code",
   "execution_count": null,
   "id": "66535487-16d0-47bf-92a1-53f6b6ab1f45",
   "metadata": {},
   "outputs": [],
   "source": []
  },
  {
   "cell_type": "code",
   "execution_count": null,
   "id": "2456fd0d-9d28-4fb3-aca7-7279ac9f250d",
   "metadata": {},
   "outputs": [],
   "source": []
  }
 ],
 "metadata": {
  "kernelspec": {
   "display_name": "Python 3 (ipykernel)",
   "language": "python",
   "name": "python3"
  },
  "language_info": {
   "codemirror_mode": {
    "name": "ipython",
    "version": 3
   },
   "file_extension": ".py",
   "mimetype": "text/x-python",
   "name": "python",
   "nbconvert_exporter": "python",
   "pygments_lexer": "ipython3",
   "version": "3.8.12"
  }
 },
 "nbformat": 4,
 "nbformat_minor": 5
}
