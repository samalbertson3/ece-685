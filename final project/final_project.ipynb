{
 "cells": [
  {
   "cell_type": "code",
   "execution_count": 172,
   "id": "44cffb0e-f784-465b-83e4-80c87fe5f773",
   "metadata": {},
   "outputs": [],
   "source": [
    "import torch\n",
    "import torch.nn.functional as F\n",
    "from torch.utils.data import DataLoader, random_split\n",
    "\n",
    "import torchvision\n",
    "from torchvision.datasets import MNIST\n",
    "\n",
    "import cv2\n",
    "import numpy as np\n",
    "import matplotlib.pyplot as plt"
   ]
  },
  {
   "cell_type": "code",
   "execution_count": 173,
   "id": "0a85163c-852f-4427-81a1-c153f803cfdf",
   "metadata": {},
   "outputs": [],
   "source": [
    "def apply_field(img, field):\n",
    "    \"\"\"Applies specified deformation to an image.\"\"\"\n",
    "    img = img.numpy()\n",
    "    \n",
    "    # set up adjusted coordinates\n",
    "    h, w = img.shape\n",
    "    x, y = np.meshgrid(np.arange(w), np.arange(h))\n",
    "    coords = np.stack((x, y), axis=-1)\n",
    "    coords_adj = coords + field\n",
    "\n",
    "    # remap pixels\n",
    "    img_adj = cv2.remap(img, coords_adj[:,:,0].astype(np.float32),\n",
    "                        coords_adj[:,:,1].astype(np.float32), \n",
    "                        interpolation=cv2.INTER_LINEAR)\n",
    "    \n",
    "    img_adj = torch.Tensor(img_adj)\n",
    "    return(img_adj)\n",
    "\n",
    "def loss(img1, img2, field, lmbda):\n",
    "    \"\"\"Calculates loss associated with image reconstruction and associated field.\"\"\"\n",
    "    \n",
    "    # approximate field gradient\n",
    "    diff_x = torch.diff(field[:,:,0], axis=0)\n",
    "    diff_y = torch.diff(field[:,:,1], axis=1)\n",
    "    diff_x = F.pad(diff_x, (0, 0, 1, 0), mode='constant')\n",
    "    diff_y = F.pad(diff_y, (1, 0, 0, 0), mode='constant')\n",
    "\n",
    "    # calculate loss\n",
    "    loss_sim = torch.sum((img1 - img2)**2)\n",
    "    loss_smooth = torch.sum(diff_x**2 + diff_y**2)\n",
    "    loss_total = loss_sim + lmbda * loss_smooth\n",
    "    return(loss_total.item())\n",
    "\n",
    "def show_images(img, img_adj, img_goal):\n",
    "    plt.figure(figsize=(12, 6))\n",
    "\n",
    "    plt.subplot(1, 3, 1)\n",
    "    plt.imshow(img)\n",
    "    plt.title('Original Image')\n",
    "\n",
    "    plt.subplot(1, 3, 2)\n",
    "    plt.imshow(img_adj)\n",
    "    plt.title('Estimated Image')\n",
    "\n",
    "    plt.subplot(1, 3, 3)\n",
    "    plt.imshow(img_goal)\n",
    "    plt.title('Goal Image')\n",
    "\n",
    "    plt.show()"
   ]
  },
  {
   "cell_type": "code",
   "execution_count": 175,
   "id": "208c77ab-ee4f-434a-96aa-c9317ab611e3",
   "metadata": {},
   "outputs": [
    {
     "ename": "ValueError",
     "evalue": "Sum of input lengths does not equal the length of the input dataset!",
     "output_type": "error",
     "traceback": [
      "\u001b[0;31m---------------------------------------------------------------------------\u001b[0m",
      "\u001b[0;31mValueError\u001b[0m                                Traceback (most recent call last)",
      "Input \u001b[0;32mIn [176]\u001b[0m, in \u001b[0;36m<module>\u001b[0;34m\u001b[0m\n\u001b[1;32m     11\u001b[0m train, val \u001b[38;5;241m=\u001b[39m random_split(train, [\u001b[38;5;28mint\u001b[39m(\u001b[38;5;241m0.8\u001b[39m \u001b[38;5;241m*\u001b[39m \u001b[38;5;28mlen\u001b[39m(train)), \u001b[38;5;28mlen\u001b[39m(train) \u001b[38;5;241m-\u001b[39m \u001b[38;5;28mint\u001b[39m(\u001b[38;5;241m0.8\u001b[39m \u001b[38;5;241m*\u001b[39m \u001b[38;5;28mlen\u001b[39m(train))])\n\u001b[1;32m     12\u001b[0m train_f, train_m \u001b[38;5;241m=\u001b[39m random_split(train, [\u001b[38;5;28mint\u001b[39m(\u001b[38;5;241m0.5\u001b[39m \u001b[38;5;241m*\u001b[39m \u001b[38;5;28mlen\u001b[39m(train)), \u001b[38;5;28mlen\u001b[39m(train) \u001b[38;5;241m-\u001b[39m \u001b[38;5;28mint\u001b[39m(\u001b[38;5;241m0.5\u001b[39m \u001b[38;5;241m*\u001b[39m \u001b[38;5;28mlen\u001b[39m(train))])\n\u001b[0;32m---> 13\u001b[0m val_f, val_m \u001b[38;5;241m=\u001b[39m \u001b[43mrandom_split\u001b[49m\u001b[43m(\u001b[49m\u001b[43mtrain\u001b[49m\u001b[43m,\u001b[49m\u001b[43m \u001b[49m\u001b[43m[\u001b[49m\u001b[38;5;28;43mint\u001b[39;49m\u001b[43m(\u001b[49m\u001b[38;5;241;43m0.5\u001b[39;49m\u001b[43m \u001b[49m\u001b[38;5;241;43m*\u001b[39;49m\u001b[43m \u001b[49m\u001b[38;5;28;43mlen\u001b[39;49m\u001b[43m(\u001b[49m\u001b[43mval\u001b[49m\u001b[43m)\u001b[49m\u001b[43m)\u001b[49m\u001b[43m,\u001b[49m\u001b[43m \u001b[49m\u001b[38;5;28;43mlen\u001b[39;49m\u001b[43m(\u001b[49m\u001b[43mval\u001b[49m\u001b[43m)\u001b[49m\u001b[43m \u001b[49m\u001b[38;5;241;43m-\u001b[39;49m\u001b[43m \u001b[49m\u001b[38;5;28;43mint\u001b[39;49m\u001b[43m(\u001b[49m\u001b[38;5;241;43m0.5\u001b[39;49m\u001b[43m \u001b[49m\u001b[38;5;241;43m*\u001b[39;49m\u001b[43m \u001b[49m\u001b[38;5;28;43mlen\u001b[39;49m\u001b[43m(\u001b[49m\u001b[43mval\u001b[49m\u001b[43m)\u001b[49m\u001b[43m)\u001b[49m\u001b[43m]\u001b[49m\u001b[43m)\u001b[49m\n\u001b[1;32m     15\u001b[0m \u001b[38;5;66;03m# set up data loaders\u001b[39;00m\n\u001b[1;32m     16\u001b[0m train_loader \u001b[38;5;241m=\u001b[39m DataLoader(train, batch_size\u001b[38;5;241m=\u001b[39m\u001b[38;5;241m1\u001b[39m, shuffle\u001b[38;5;241m=\u001b[39m\u001b[38;5;28;01mTrue\u001b[39;00m)\n",
      "File \u001b[0;32m/opt/conda/lib/python3.8/site-packages/torch/utils/data/dataset.py:384\u001b[0m, in \u001b[0;36mrandom_split\u001b[0;34m(dataset, lengths, generator)\u001b[0m\n\u001b[1;32m    382\u001b[0m \u001b[38;5;66;03m# Cannot verify that dataset is Sized\u001b[39;00m\n\u001b[1;32m    383\u001b[0m \u001b[38;5;28;01mif\u001b[39;00m \u001b[38;5;28msum\u001b[39m(lengths) \u001b[38;5;241m!=\u001b[39m \u001b[38;5;28mlen\u001b[39m(dataset):\n\u001b[0;32m--> 384\u001b[0m     \u001b[38;5;28;01mraise\u001b[39;00m \u001b[38;5;167;01mValueError\u001b[39;00m(\u001b[38;5;124m\"\u001b[39m\u001b[38;5;124mSum of input lengths does not equal the length of the input dataset!\u001b[39m\u001b[38;5;124m\"\u001b[39m)\n\u001b[1;32m    386\u001b[0m indices \u001b[38;5;241m=\u001b[39m randperm(\u001b[38;5;28msum\u001b[39m(lengths), generator\u001b[38;5;241m=\u001b[39mgenerator)\u001b[38;5;241m.\u001b[39mtolist()\n\u001b[1;32m    387\u001b[0m \u001b[38;5;28;01mreturn\u001b[39;00m [Subset(dataset, indices[offset \u001b[38;5;241m-\u001b[39m length : offset]) \u001b[38;5;28;01mfor\u001b[39;00m offset, length \u001b[38;5;129;01min\u001b[39;00m \u001b[38;5;28mzip\u001b[39m(_accumulate(lengths), lengths)]\n",
      "\u001b[0;31mValueError\u001b[0m: Sum of input lengths does not equal the length of the input dataset!"
     ]
    }
   ],
   "source": [
    "transform = torchvision.transforms.ToTensor()\n",
    "\n",
    "# load training data\n",
    "train = MNIST(root='./data', train=True, download=True, transform=transform)\n",
    "train.data = train.data[train.targets == 7]\n",
    "train.targets = train.targets[train.targets == 7]\n",
    "\n",
    "# split into training/validation sets\n",
    "train, val = random_split(train, [int(0.8 * len(train)), len(train) - int(0.8 * len(train))])\n",
    "train_loader = DataLoader(train, batch_size=1, shuffle=True)\n",
    "val_loader = DataLoader(val, batch_size=1, shuffle=True)\n",
    "\n",
    "# load test data\n",
    "test = MNIST(root='./data', train=False, download=True, transform=transform)\n",
    "test.data = test.data[test.targets == 7]\n",
    "test.targets = test.targets[test.targets == 7]\n",
    "test_loader = DataLoader(test, batch_size=1, shuffle=True)\n",
    "\n",
    "# generate random demo field\n",
    "field = np.random.uniform(-1, 1, (28, 28, 2))\n",
    "\n",
    "# set up demo image\n",
    "img, _ = next(iter(train_loader))\n",
    "img = img.squeeze()\n",
    "\n",
    "# apply deformation field\n",
    "img_adj = apply_field(img, field)"
   ]
  },
  {
   "cell_type": "code",
   "execution_count": 168,
   "id": "a964095d-d69e-4ea4-84e9-b07544212e91",
   "metadata": {},
   "outputs": [
    {
     "name": "stdout",
     "output_type": "stream",
     "text": [
      "626\n",
      "627\n"
     ]
    },
    {
     "data": {
      "image/png": "[encoded data removed]",
      "text/plain": [
       "<Figure size 864x432 with 3 Axes>"
      ]
     },
     "metadata": {
      "needs_background": "light"
     },
     "output_type": "display_data"
    }
   ],
   "source": [
    "# display original/transformed images\n",
    "img_goal = img\n",
    "\n",
    "show_images(img, img_adj, img_adj)"
   ]
  },
  {
   "cell_type": "code",
   "execution_count": 147,
   "id": "7d3f3b7b-56cc-4aec-8a2e-45363424725d",
   "metadata": {},
   "outputs": [
    {
     "data": {
      "text/plain": [
       "30.014240264892578"
      ]
     },
     "execution_count": 147,
     "metadata": {},
     "output_type": "execute_result"
    }
   ],
   "source": [
    "lmbda = 0.01\n",
    "img1 = torch.Tensor(img)\n",
    "img2 = torch.Tensor(img_adj)\n",
    "field2 = torch.Tensor(field)\n",
    "\n",
    "loss(img1, img2, field2, lmbda)"
   ]
  },
  {
   "cell_type": "code",
   "execution_count": null,
   "id": "66535487-16d0-47bf-92a1-53f6b6ab1f45",
   "metadata": {},
   "outputs": [],
   "source": []
  },
  {
   "cell_type": "code",
   "execution_count": null,
   "id": "2456fd0d-9d28-4fb3-aca7-7279ac9f250d",
   "metadata": {},
   "outputs": [],
   "source": []
  }
 ],
 "metadata": {
  "kernelspec": {
   "display_name": "Python 3 (ipykernel)",
   "language": "python",
   "name": "python3"
  },
  "language_info": {
   "codemirror_mode": {
    "name": "ipython",
    "version": 3
   },
   "file_extension": ".py",
   "mimetype": "text/x-python",
   "name": "python",
   "nbconvert_exporter": "python",
   "pygments_lexer": "ipython3",
   "version": "3.8.12"
  }
 },
 "nbformat": 4,
 "nbformat_minor": 5
}
