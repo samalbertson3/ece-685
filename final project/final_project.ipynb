{
 "cells": [
  {
   "cell_type": "code",
   "execution_count": 129,
   "id": "44cffb0e-f784-465b-83e4-80c87fe5f773",
   "metadata": {},
   "outputs": [],
   "source": [
    "import torch\n",
    "import torch.nn.functional as F\n",
    "from torch.utils.data import DataLoader\n",
    "\n",
    "import torchvision\n",
    "from torchvision.datasets import MNIST\n",
    "\n",
    "import cv2\n",
    "import numpy as np\n",
    "import matplotlib.pyplot as plt"
   ]
  },
  {
   "cell_type": "code",
   "execution_count": 136,
   "id": "0a85163c-852f-4427-81a1-c153f803cfdf",
   "metadata": {},
   "outputs": [],
   "source": [
    "def apply_field(img, field):\n",
    "    \"\"\"Applies specified deformation to an image.\"\"\"\n",
    "    img = img.numpy()\n",
    "    \n",
    "    # set up adjusted coordinates\n",
    "    h, w = img.shape\n",
    "    x, y = np.meshgrid(np.arange(w), np.arange(h))\n",
    "    coords = np.stack((x, y), axis=-1)\n",
    "    coords_adj = coords + field\n",
    "\n",
    "    # remap pixels\n",
    "    img_adj = cv2.remap(img, coords_adj[:,:,0].astype(np.float32),\n",
    "                        coords_adj[:,:,1].astype(np.float32), \n",
    "                        interpolation=cv2.INTER_LINEAR)\n",
    "    \n",
    "    img_adj = torch.Tensor(img_adj)\n",
    "    return(img_adj)\n",
    "\n",
    "def loss(img1, img2, field, lmbda):\n",
    "    \"\"\"Calculates loss associated with image reconstruction and associated field.\"\"\"\n",
    "    \n",
    "    # approximate field gradient\n",
    "    diff_x = torch.diff(field[:,:,0], axis=0)\n",
    "    diff_y = torch.diff(field[:,:,1], axis=1)\n",
    "    diff_x = F.pad(diff_x, (0, 0, 1, 0), mode='constant')\n",
    "    diff_y = F.pad(diff_y, (1, 0, 0, 0), mode='constant')\n",
    "\n",
    "    # calculate loss\n",
    "    loss_sim = torch.sum((img1 - img2)**2)\n",
    "    loss_smooth = torch.sum(diff_x**2 + diff_y**2)\n",
    "    loss_total = loss_sim + lmbda * loss_smooth\n",
    "    return(loss_total.item())"
   ]
  },
  {
   "cell_type": "code",
   "execution_count": 137,
   "id": "208c77ab-ee4f-434a-96aa-c9317ab611e3",
   "metadata": {},
   "outputs": [],
   "source": [
    "# load data\n",
    "transform = torchvision.transforms.ToTensor()\n",
    "mnist_dataset = MNIST(root='./data', train=True, download=True, transform=transform)\n",
    "dataloader = DataLoader(mnist_dataset, batch_size=1, shuffle=True)\n",
    "\n",
    "# generate random demo field\n",
    "field = np.random.uniform(-1, 1, (28, 28, 2))\n",
    "\n",
    "# set up demo image\n",
    "img, _ = next(iter(dataloader))\n",
    "img = img.squeeze()\n",
    "\n",
    "# apply deformation field\n",
    "img_adj = apply_field(img, field)"
   ]
  },
  {
   "cell_type": "code",
   "execution_count": 144,
   "id": "a964095d-d69e-4ea4-84e9-b07544212e91",
   "metadata": {},
   "outputs": [
    {
     "data": {
      "image/png": "[encoded data removed]",
      "text/plain": [
       "<Figure size 864x432 with 3 Axes>"
      ]
     },
     "metadata": {
      "needs_background": "light"
     },
     "output_type": "display_data"
    }
   ],
   "source": [
    "# display original/transformed images\n",
    "img_goal = img\n",
    "\n",
    "plt.figure(figsize=(12, 6))\n",
    "\n",
    "plt.subplot(1, 3, 1)\n",
    "plt.imshow(img, cmap='gray')\n",
    "plt.title('Original Image')\n",
    "\n",
    "plt.subplot(1, 3, 2)\n",
    "plt.imshow(img_adj, cmap='gray')\n",
    "plt.title('Estimated Image')\n",
    "\n",
    "plt.subplot(1, 3, 3)\n",
    "plt.imshow(img_goal, cmap='gray')\n",
    "plt.title('Goal Image')\n",
    "\n",
    "plt.show()"
   ]
  },
  {
   "cell_type": "code",
   "execution_count": 147,
   "id": "7d3f3b7b-56cc-4aec-8a2e-45363424725d",
   "metadata": {},
   "outputs": [
    {
     "data": {
      "text/plain": [
       "30.014240264892578"
      ]
     },
     "execution_count": 147,
     "metadata": {},
     "output_type": "execute_result"
    }
   ],
   "source": [
    "lmbda = 0.01\n",
    "img1 = torch.Tensor(img)\n",
    "img2 = torch.Tensor(img_adj)\n",
    "field2 = torch.Tensor(field)\n",
    "\n",
    "loss(img1, img2, field2, lmbda)"
   ]
  },
  {
   "cell_type": "code",
   "execution_count": null,
   "id": "66535487-16d0-47bf-92a1-53f6b6ab1f45",
   "metadata": {},
   "outputs": [],
   "source": []
  },
  {
   "cell_type": "code",
   "execution_count": null,
   "id": "2456fd0d-9d28-4fb3-aca7-7279ac9f250d",
   "metadata": {},
   "outputs": [],
   "source": []
  }
 ],
 "metadata": {
  "kernelspec": {
   "display_name": "Python 3 (ipykernel)",
   "language": "python",
   "name": "python3"
  },
  "language_info": {
   "codemirror_mode": {
    "name": "ipython",
    "version": 3
   },
   "file_extension": ".py",
   "mimetype": "text/x-python",
   "name": "python",
   "nbconvert_exporter": "python",
   "pygments_lexer": "ipython3",
   "version": "3.8.12"
  }
 },
 "nbformat": 4,
 "nbformat_minor": 5
}
