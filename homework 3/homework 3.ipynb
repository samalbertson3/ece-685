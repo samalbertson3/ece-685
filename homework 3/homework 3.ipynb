{
 "cells": [
  {
   "cell_type": "markdown",
   "id": "7b1fd2cf-2183-4aac-bf0d-fc36e3ea2e96",
   "metadata": {},
   "source": [
    "# Problem 1.1.1"
   ]
  },
  {
   "cell_type": "code",
   "execution_count": 73,
   "id": "44f3ecdb-b4ec-411e-83b7-62981d5729da",
   "metadata": {},
   "outputs": [],
   "source": [
    "import xml.etree.ElementTree as ET\n",
    "import numpy as np\n",
    "\n",
    "# setup\n",
    "fp = \"data/VOCdevkit/VOC2012/Annotations/2007_000027.xml\"\n",
    "\n",
    "def parse_file(fp):    \n",
    "    # extract xml tree\n",
    "    tree = ET.parse(fp)\n",
    "    root = tree.getroot()\n",
    "\n",
    "    # identify objects\n",
    "    # extract boundary box data\n",
    "    output = []\n",
    "    for obj in root.findall(\"./object\"):\n",
    "        name = obj.find(\"name\").text\n",
    "        box = obj.find(\"bndbox\")\n",
    "        x = int(box.find(\"xmin\").text)\n",
    "        xmax = int(box.find(\"xmax\").text)\n",
    "        y = int(box.find(\"ymin\").text)\n",
    "        ymax = int(box.find(\"ymax\").text)\n",
    "        \n",
    "        w = xmax - x\n",
    "        h = ymax - y\n",
    "        \n",
    "        coords = [name, x, y, w, h]\n",
    "        output.append(coords)\n",
    "\n",
    "    # put in numpy array format \n",
    "    output = np.array(output)\n",
    "    \n",
    "    return(output)"
   ]
  },
  {
   "cell_type": "markdown",
   "id": "cd0b7d6a-1de0-4afa-880f-c6397e6a0976",
   "metadata": {},
   "source": [
    "# Problem 1.1.2"
   ]
  },
  {
   "cell_type": "code",
   "execution_count": 75,
   "id": "cd4e08f6-1982-4daf-8e42-5ea1839b45c9",
   "metadata": {
    "tags": []
   },
   "outputs": [],
   "source": [
    "import matplotlib.pyplot as plt\n",
    "from matplotlib import patches\n",
    "from PIL import Image\n",
    "\n",
    "xml_path = \"data/VOCdevkit/VOC2012/Annotations/2007_000027.xml\"\n",
    "img_path = \"data/VOCdevkit/VOC2012/JPEGImages/2007_000027.jpg\"\n",
    "\n",
    "def show_image(img_path, xml_path):\n",
    "    # load image\n",
    "    # load xml file\n",
    "    img = Image.open(img_path)\n",
    "    bndbox = parse_file(xml_path)\n",
    "    \n",
    "    # make figure\n",
    "    fig, ax = plt.subplots()\n",
    "    ax.imshow(img)\n",
    "    \n",
    "    # make boxes\n",
    "    for obj in bndbox:\n",
    "        box = patches.Rectangle((int(obj[1]), int(obj[2])), int(obj[3]), int(obj[4]), \n",
    "                                linewidth=2, edgecolor='r', facecolor='none')\n",
    "        ax.add_patch(box)\n"
   ]
  },
  {
   "cell_type": "markdown",
   "id": "496df472-c4be-439a-881b-9eca1699ae5a",
   "metadata": {},
   "source": [
    "# Problem 1.3"
   ]
  },
  {
   "cell_type": "code",
   "execution_count": null,
   "id": "bc9d51f9-188f-449f-8a83-778df5b9ee31",
   "metadata": {},
   "outputs": [],
   "source": []
  },
  {
   "cell_type": "markdown",
   "id": "41a336b6-d028-4577-8c0c-53104ce26420",
   "metadata": {},
   "source": [
    "# Problem 2"
   ]
  },
  {
   "cell_type": "code",
   "execution_count": null,
   "id": "3407de7a-090a-4891-a110-0bb84fe13953",
   "metadata": {},
   "outputs": [],
   "source": []
  }
 ],
 "metadata": {
  "kernelspec": {
   "display_name": "Python 3 (ipykernel)",
   "language": "python",
   "name": "python3"
  },
  "language_info": {
   "codemirror_mode": {
    "name": "ipython",
    "version": 3
   },
   "file_extension": ".py",
   "mimetype": "text/x-python",
   "name": "python",
   "nbconvert_exporter": "python",
   "pygments_lexer": "ipython3",
   "version": "3.8.12"
  }
 },
 "nbformat": 4,
 "nbformat_minor": 5
}
