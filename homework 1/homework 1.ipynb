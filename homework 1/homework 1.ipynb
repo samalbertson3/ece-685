{
 "cells": [
  {
   "cell_type": "markdown",
   "id": "beae4a20-98cb-459a-b0fe-720f9a81dcb4",
   "metadata": {},
   "source": [
    "### Problem 1a"
   ]
  },
  {
   "cell_type": "code",
   "execution_count": null,
   "id": "24095f2a-dd13-4ae1-93bf-745d6ed0d6d5",
   "metadata": {},
   "outputs": [],
   "source": [
    "## Setup\n",
    "# load packages\n",
    "\n",
    "# load data\n",
    "\n",
    "\n",
    "## Estimate coefficients (VVV functionalize this VVV)\n",
    "# separate into features vs. outputs\n",
    "\n",
    "# add intercept term to features\n",
    "\n",
    "# solve for (X^T*X)^-1\n",
    "\n",
    "# beta_est = [(X^T*X)^-1] * X^T * Y\n",
    "\n",
    "\n",
    "## check work (??)"
   ]
  },
  {
   "cell_type": "markdown",
   "id": "93000b5e-bbcf-4f44-9047-adc0a4d8db3a",
   "metadata": {},
   "source": [
    "Problem 1b"
   ]
  },
  {
   "cell_type": "code",
   "execution_count": null,
   "id": "be83fa24-84ac-4833-9a7b-b8d1a2634356",
   "metadata": {},
   "outputs": [],
   "source": [
    "## Split into training/validation sets (75/25)\n",
    "\n",
    "## Build alternative models (first 7/8/9 columns)\n",
    "\n",
    "## Fit models to training data \n",
    "\n",
    "## Compute MSE with test data"
   ]
  }
 ],
 "metadata": {
  "kernelspec": {
   "display_name": "Python 3 (ipykernel)",
   "language": "python",
   "name": "python3"
  },
  "language_info": {
   "codemirror_mode": {
    "name": "ipython",
    "version": 3
   },
   "file_extension": ".py",
   "mimetype": "text/x-python",
   "name": "python",
   "nbconvert_exporter": "python",
   "pygments_lexer": "ipython3",
   "version": "3.8.12"
  }
 },
 "nbformat": 4,
 "nbformat_minor": 5
}
