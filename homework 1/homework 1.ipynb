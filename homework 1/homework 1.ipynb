{
 "cells": [
  {
   "cell_type": "markdown",
   "id": "beae4a20-98cb-459a-b0fe-720f9a81dcb4",
   "metadata": {},
   "source": [
    "# Problem 1a"
   ]
  },
  {
   "cell_type": "code",
   "execution_count": 130,
   "id": "1bd3f9f6-c289-419e-ba03-2d48f40e744e",
   "metadata": {},
   "outputs": [],
   "source": [
    "## Setup\n",
    "# load packages\n",
    "import numpy as np\n",
    "import csv\n",
    "import random\n",
    "import math\n",
    "\n",
    "# load data\n",
    "with open(\"Concrete_Data_Yeh.csv\") as fp:\n",
    "    f = csv.reader(fp, delimiter=\",\", quotechar='\"')\n",
    "    conc_dat = np.array([row for row in f])\n",
    "\n",
    "# add intercept term to features\n",
    "conc_dat = np.concatenate((np.ones((conc_dat.shape[0], 1)), conc_dat), axis=1)\n",
    "conc_dat[0,0] = \"(intercept)\"\n",
    "\n",
    "# split out header\n",
    "header = conc_dat[0,:]"
   ]
  },
  {
   "cell_type": "code",
   "execution_count": 131,
   "id": "f60dba54-fa22-46b7-add3-250c951a0035",
   "metadata": {},
   "outputs": [
    {
     "name": "stdout",
     "output_type": "stream",
     "text": [
      "[-2.33312136e+01  1.19804334e-01  1.03865809e-01  8.79343215e-02 -1.49918419e-01  2.92224595e-01  1.80862148e-02  2.01903511e-02  1.14222068e-01]\n"
     ]
    }
   ],
   "source": [
    "## Functions\n",
    "def solve_beta(data):\n",
    "    \"\"\"Estimates beta coefficients via numpy.\"\"\"\n",
    "  \n",
    "    # separate into features vs. outputs\n",
    "\n",
    "    header = data[0]\n",
    "    y_ind = np.where(header == \"csMPa\")[0][0]\n",
    "\n",
    "    X = np.array(data[1:, :y_ind], dtype=\"float\")\n",
    "    Y = np.array(data[1:,y_ind], dtype=\"float\")\n",
    "\n",
    "    # solve for (X^T*X)^-1\n",
    "    XtX_inv = np.linalg.inv(np.dot(X.T, X))\n",
    "\n",
    "    # solve for beta\n",
    "    beta = np.dot(np.dot(XtX_inv, X.T), Y)\n",
    "    return beta, X, Y\n",
    "\n",
    "beta_est, _, _ = solve_beta(conc_dat)\n",
    "print(beta_est)"
   ]
  },
  {
   "cell_type": "markdown",
   "id": "93000b5e-bbcf-4f44-9047-adc0a4d8db3a",
   "metadata": {},
   "source": [
    "# Problem 1b"
   ]
  },
  {
   "cell_type": "code",
   "execution_count": 132,
   "id": "5398f817-0fd9-4d34-a9ab-42ff507a6515",
   "metadata": {},
   "outputs": [
    {
     "name": "stdout",
     "output_type": "stream",
     "text": [
      "3911.5987612662125\n",
      "3711.883557479145\n",
      "19311.55982021975\n"
     ]
    }
   ],
   "source": [
    "## Split into training/validation sets (75/25)\n",
    "# random.seed(12345)\n",
    "\n",
    "# make vector of indices\n",
    "inds = [i + 1 for i in list(range(len(conc_dat)-1))]\n",
    "\n",
    "# shuffle randomly\n",
    "random.shuffle(inds)\n",
    "\n",
    "# take first 75%/last 25%\n",
    "train_inds = inds[:math.floor(0.75*len(conc_dat))]\n",
    "val_inds = inds[math.floor(0.75*len(conc_dat)):]\n",
    "train = np.array([conc_dat[i] for i in train_inds])\n",
    "val = np.array([conc_dat[i] for i in val_inds])\n",
    "\n",
    "# add header to training datasets\n",
    "train = np.vstack((header, train))\n",
    "\n",
    "## Build alternative models (first 7/8/9 columns)\n",
    "## Fit models to training data \n",
    "m1, X1, Y1 = solve_beta(train[:, np.array([0,1,2,3,4,5,6,9])])\n",
    "m2, X2, Y2 = solve_beta(train[:, np.array([0,1,2,3,4,5,6,7,9])])\n",
    "m3, X3, Y3 = solve_beta(train[:, np.array([0,1,2,3,4,5,6,7,8,9])])\n",
    "\n",
    "## Compute MSE with test data\n",
    "\n",
    "y_ind = np.where(header == \"csMPa\")[0][0]\n",
    "Y_val = np.array(val[:,y_ind], dtype=\"float\")\n",
    "val = np.array(val[0:], dtype=\"float\")\n",
    "val = np.concatenate((np.ones((val.shape[0], 1)), val), axis=1)\n",
    "\n",
    "mse1 = np.mean((np.dot(val[:, np.array([0,1,2,3,4,5,6])], m1) - Y_val)**2)\n",
    "mse2 = np.mean((np.dot(val[:, np.array([0,1,2,3,4,5,6,7])], m2) - Y_val)**2)\n",
    "mse3 = np.mean((np.dot(val[:, np.array([0,1,2,3,4,5,6,7,8])], m3) - Y_val)**2)\n",
    "\n",
    "print(mse1)\n",
    "print(mse2)\n",
    "print(mse3)"
   ]
  },
  {
   "cell_type": "markdown",
   "id": "eb4b96d3-c9f0-49c2-aafc-8dd27bcebe7e",
   "metadata": {},
   "source": [
    "The models with more variables included do not always have better validation-set error than simpler models. "
   ]
  },
  {
   "cell_type": "markdown",
   "id": "0feaa35c-59c6-48cb-b3ce-4830d4485217",
   "metadata": {},
   "source": [
    "# Problem 2"
   ]
  },
  {
   "cell_type": "code",
   "execution_count": 276,
   "id": "df4956f3-618b-43de-bc07-c3d39a91a9b9",
   "metadata": {},
   "outputs": [],
   "source": [
    "# Setup\n",
    "import torch\n",
    "import torch.nn as nn\n",
    "import torch.optim\n",
    "import torchvision\n",
    "import torchvision.transforms as transforms\n",
    "import matplotlib.pyplot as plt\n",
    "import pandas as pd\n",
    "\n",
    "# load MNIST data\n",
    "trainset = torchvision.datasets.MNIST(root='./data', train=True, download=True, transform = transforms.ToTensor())\n",
    "testset = torchvision.datasets.MNIST(root='./data', train=False, download=True, transform = transforms.ToTensor())\n",
    "\n",
    "trainloader = torch.utils.data.DataLoader(trainset, batch_size=64, shuffle=True)\n",
    "testloader = torch.utils.data.DataLoader(testset, batch_size=64, shuffle=False)"
   ]
  },
  {
   "cell_type": "code",
   "execution_count": 277,
   "id": "c5e8ad0d-f492-4d07-86eb-a0f5b261a5b5",
   "metadata": {},
   "outputs": [
    {
     "data": {
      "text/plain": [
       "<All keys matched successfully>"
      ]
     },
     "execution_count": 277,
     "metadata": {},
     "output_type": "execute_result"
    }
   ],
   "source": [
    "# load feature extractor\n",
    "# load weights from feature_extractor_weights.pth\n",
    "import Encoder\n",
    "model = Encoder.extractor()\n",
    "model.load_state_dict(torch.load(\"feature_extractor_weights.pth\"))"
   ]
  },
  {
   "cell_type": "code",
   "execution_count": 431,
   "id": "64249527-4545-411f-8d12-f777538f0fc7",
   "metadata": {},
   "outputs": [],
   "source": [
    "# define logistic regression function\n",
    "def log_reg(X, W, b):\n",
    "    y_hat = torch.matmul(X, W) + b\n",
    "    return(y_hat)\n",
    "\n",
    "# define gradient function\n",
    "def grad(X, y, t):\n",
    "    grad_out = torch.matmul((y_hat - t).T, h)\n",
    "    return(grad_out.T)"
   ]
  },
  {
   "cell_type": "code",
   "execution_count": 504,
   "id": "30a909aa-4523-48bc-aa74-2df45abce0c4",
   "metadata": {},
   "outputs": [],
   "source": [
    "# set up initial weights/bias\n",
    "b = torch.randn(1,1)\n",
    "W = torch.randn(256,10)\n",
    "lr = 0.05\n",
    "\n",
    "ls = torch.empty(0)\n",
    "j = 1\n",
    "# for minibatch in batches\n",
    "for imgs, labs in trainloader:\n",
    "    \n",
    "    # extract latent features\n",
    "    h = model.forward(imgs)\n",
    "\n",
    "    # do logistic regression\n",
    "    # take softmax of the output\n",
    "    # find best fit label\n",
    "    y_hat = torch.sigmoid(log_reg(h, W, b))\n",
    "    denom = torch.sum(torch.exp(y_hat), dim=1, keepdim=True)\n",
    "    y_hat_soft = torch.exp(y_hat)/denom\n",
    "    \n",
    "    # flatten to avoid infinite loss values\n",
    "    y_hat_soft = torch.maximum(torch.tensor(10**(-17)), y_hat_soft)\n",
    "    y_hat_soft = torch.minimum(torch.tensor(1 - 10**(-7)), y_hat_soft)\n",
    "    \n",
    "    # encode truth matrix\n",
    "    t = torch.zeros(h.shape[0], 10)\n",
    "    for i in range(0, h.shape[0]):\n",
    "        lab = labs[i]\n",
    "        t[i, lab] = 1\n",
    "    \n",
    "    # calculate loss (lecture 3, slide 41)\n",
    "    loss = -torch.sum(t*torch.log(y_hat_soft), dim=1, keepdim=True)\n",
    "    ls = torch.cat((ls, torch.mean(loss).unsqueeze(0)), dim=0)\n",
    "    \n",
    "    # iterate: stochastic gradient descent\n",
    "    W = W - lr*grad(h, y_hat, t)\n",
    "    \n",
    "    #j = j + 1\n",
    "    #if j > 15:\n",
    "        #break ## for debugging only!"
   ]
  },
  {
   "cell_type": "code",
   "execution_count": 536,
   "id": "1dbd8af0-2651-4acf-802c-905295f69d2c",
   "metadata": {},
   "outputs": [
    {
     "data": {
      "image/png": "[encoded data removed]",
      "text/plain": [
       "<Figure size 432x288 with 1 Axes>"
      ]
     },
     "metadata": {
      "needs_background": "light"
     },
     "output_type": "display_data"
    }
   ],
   "source": [
    "# plot loss vs. mini-batch\n",
    "import matplotlib.pyplot as plt\n",
    "import math\n",
    "inds = range(len(ls))\n",
    "plt.plot(inds, ls.detach().numpy(), linestyle=\"-\")\n",
    "plt.xlabel(\"Step number\")\n",
    "plt.ylabel(\"Cross-entropy loss\")\n",
    "plt.title(\"Loss vs. mini-batch\")\n",
    "plt.show()"
   ]
  },
  {
   "cell_type": "markdown",
   "id": "b8be0299-86c1-4167-a0a6-b0def509cd45",
   "metadata": {},
   "source": [
    "# Problem 3"
   ]
  },
  {
   "cell_type": "code",
   "execution_count": 137,
   "id": "82cbb1c0-267a-45e7-b6dd-a494752914d2",
   "metadata": {},
   "outputs": [
    {
     "data": {
      "image/png": "[encoded data removed]",
      "text/plain": [
       "<Figure size 432x288 with 1 Axes>"
      ]
     },
     "metadata": {
      "needs_background": "light"
     },
     "output_type": "display_data"
    }
   ],
   "source": [
    "# setup\n",
    "import torch\n",
    "import math\n",
    "import matplotlib.pyplot as plt\n",
    "\n",
    "# pull variables\n",
    "U1 = torch.rand(300,1)\n",
    "U2 = torch.rand(300, 1)\n",
    "\n",
    "# set R, theta\n",
    "theta = 2*math.pi*U1\n",
    "R = (-2*torch.log(U2))**(1/2)\n",
    "\n",
    "# set X, Y\n",
    "x = R*torch.cos(theta)\n",
    "y = R*torch.sin(theta)\n",
    "\n",
    "# plot x,y coordinates\n",
    "plt.plot(x,y,\"*\")\n",
    "plt.show()"
   ]
  }
 ],
 "metadata": {
  "kernelspec": {
   "display_name": "Python 3 (ipykernel)",
   "language": "python",
   "name": "python3"
  },
  "language_info": {
   "codemirror_mode": {
    "name": "ipython",
    "version": 3
   },
   "file_extension": ".py",
   "mimetype": "text/x-python",
   "name": "python",
   "nbconvert_exporter": "python",
   "pygments_lexer": "ipython3",
   "version": "3.8.12"
  }
 },
 "nbformat": 4,
 "nbformat_minor": 5
}
