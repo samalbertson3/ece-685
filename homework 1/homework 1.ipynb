{
 "cells": [
  {
   "cell_type": "markdown",
   "id": "beae4a20-98cb-459a-b0fe-720f9a81dcb4",
   "metadata": {},
   "source": [
    "# Problem 1a"
   ]
  },
  {
   "cell_type": "code",
   "execution_count": 231,
   "id": "1bd3f9f6-c289-419e-ba03-2d48f40e744e",
   "metadata": {},
   "outputs": [],
   "source": [
    "## Setup\n",
    "# load packages\n",
    "import numpy as np\n",
    "import csv\n",
    "import random\n",
    "import math\n",
    "\n",
    "# load data\n",
    "with open(\"Concrete_Data_Yeh.csv\") as fp:\n",
    "    f = csv.reader(fp, delimiter=\",\", quotechar='\"')\n",
    "    conc_dat = np.array([row for row in f])\n",
    "\n",
    "# add intercept term to features\n",
    "conc_dat = np.concatenate((np.ones((conc_dat.shape[0], 1)), conc_dat), axis=1)\n",
    "conc_dat[0,0] = \"(intercept)\"\n",
    "\n",
    "# split out header\n",
    "header = conc_dat[0,:]"
   ]
  },
  {
   "cell_type": "code",
   "execution_count": 66,
   "id": "8747a363-c312-4a62-947e-999dab35f83e",
   "metadata": {},
   "outputs": [],
   "source": [
    "## Functions\n",
    "def solve_beta(data):\n",
    "    \"\"\"Estimates beta coefficients via numpy.\"\"\"\n",
    "  \n",
    "    # separate into features vs. outputs\n",
    "\n",
    "    header = data[0]\n",
    "    y_ind = np.where(header == \"csMPa\")[0][0]\n",
    "\n",
    "    X = np.array(X0[1:, :y_ind], dtype=\"float\")\n",
    "    Y = np.array(X0[1:,y_ind], dtype=\"float\")\n",
    "\n",
    "    # solve for (X^T*X)^-1\n",
    "    XtX_inv = np.linalg.inv(np.dot(X.T, X))\n",
    "\n",
    "    # solve for beta\n",
    "    beta = np.dot(np.dot(XtX_inv, X.T), Y)\n",
    "    return beta, X, Y"
   ]
  },
  {
   "cell_type": "markdown",
   "id": "93000b5e-bbcf-4f44-9047-adc0a4d8db3a",
   "metadata": {},
   "source": [
    "# Problem 1b"
   ]
  },
  {
   "cell_type": "code",
   "execution_count": 240,
   "id": "be83fa24-84ac-4833-9a7b-b8d1a2634356",
   "metadata": {},
   "outputs": [
    {
     "ename": "LinAlgError",
     "evalue": "Singular matrix",
     "output_type": "error",
     "traceback": [
      "\u001b[0;31m---------------------------------------------------------------------------\u001b[0m",
      "\u001b[0;31mLinAlgError\u001b[0m                               Traceback (most recent call last)",
      "Input \u001b[0;32mIn [240]\u001b[0m, in \u001b[0;36m<module>\u001b[0;34m\u001b[0m\n\u001b[1;32m     15\u001b[0m train \u001b[38;5;241m=\u001b[39m np\u001b[38;5;241m.\u001b[39mvstack((header, train))\n\u001b[1;32m     17\u001b[0m \u001b[38;5;66;03m## Build alternative models (first 7/8/9 columns)\u001b[39;00m\n\u001b[1;32m     18\u001b[0m \u001b[38;5;66;03m## Fit models to training data \u001b[39;00m\n\u001b[0;32m---> 19\u001b[0m m1, _, _ \u001b[38;5;241m=\u001b[39m \u001b[43msolve_beta\u001b[49m\u001b[43m(\u001b[49m\u001b[43mtrain\u001b[49m\u001b[43m[\u001b[49m\u001b[43m:\u001b[49m\u001b[43m,\u001b[49m\u001b[43m \u001b[49m\u001b[43mnp\u001b[49m\u001b[38;5;241;43m.\u001b[39;49m\u001b[43marray\u001b[49m\u001b[43m(\u001b[49m\u001b[43m[\u001b[49m\u001b[38;5;241;43m0\u001b[39;49m\u001b[43m,\u001b[49m\u001b[38;5;241;43m1\u001b[39;49m\u001b[43m,\u001b[49m\u001b[38;5;241;43m2\u001b[39;49m\u001b[43m,\u001b[49m\u001b[38;5;241;43m3\u001b[39;49m\u001b[43m,\u001b[49m\u001b[38;5;241;43m4\u001b[39;49m\u001b[43m,\u001b[49m\u001b[38;5;241;43m5\u001b[39;49m\u001b[43m,\u001b[49m\u001b[38;5;241;43m9\u001b[39;49m\u001b[43m]\u001b[49m\u001b[43m)\u001b[49m\u001b[43m]\u001b[49m\u001b[43m)\u001b[49m\n\u001b[1;32m     20\u001b[0m m2, _, _ \u001b[38;5;241m=\u001b[39m solve_beta(train[:, np\u001b[38;5;241m.\u001b[39marray([\u001b[38;5;241m0\u001b[39m,\u001b[38;5;241m1\u001b[39m,\u001b[38;5;241m2\u001b[39m,\u001b[38;5;241m3\u001b[39m,\u001b[38;5;241m4\u001b[39m,\u001b[38;5;241m5\u001b[39m,\u001b[38;5;241m6\u001b[39m,\u001b[38;5;241m9\u001b[39m])])\n\u001b[1;32m     21\u001b[0m m3, _, _ \u001b[38;5;241m=\u001b[39m solve_beta(train[:, np\u001b[38;5;241m.\u001b[39marray([\u001b[38;5;241m0\u001b[39m,\u001b[38;5;241m1\u001b[39m,\u001b[38;5;241m2\u001b[39m,\u001b[38;5;241m3\u001b[39m,\u001b[38;5;241m4\u001b[39m,\u001b[38;5;241m5\u001b[39m,\u001b[38;5;241m6\u001b[39m,\u001b[38;5;241m9\u001b[39m])])\n",
      "Input \u001b[0;32mIn [66]\u001b[0m, in \u001b[0;36msolve_beta\u001b[0;34m(data)\u001b[0m\n\u001b[1;32m     23\u001b[0m Y \u001b[38;5;241m=\u001b[39m np\u001b[38;5;241m.\u001b[39marray(X0[\u001b[38;5;241m1\u001b[39m:,y_ind], dtype\u001b[38;5;241m=\u001b[39m\u001b[38;5;124m\"\u001b[39m\u001b[38;5;124mfloat\u001b[39m\u001b[38;5;124m\"\u001b[39m)\n\u001b[1;32m     25\u001b[0m \u001b[38;5;66;03m# solve for (X^T*X)^-1\u001b[39;00m\n\u001b[0;32m---> 26\u001b[0m XtX_inv \u001b[38;5;241m=\u001b[39m \u001b[43mnp\u001b[49m\u001b[38;5;241;43m.\u001b[39;49m\u001b[43mlinalg\u001b[49m\u001b[38;5;241;43m.\u001b[39;49m\u001b[43minv\u001b[49m\u001b[43m(\u001b[49m\u001b[43mnp\u001b[49m\u001b[38;5;241;43m.\u001b[39;49m\u001b[43mdot\u001b[49m\u001b[43m(\u001b[49m\u001b[43mX\u001b[49m\u001b[38;5;241;43m.\u001b[39;49m\u001b[43mT\u001b[49m\u001b[43m,\u001b[49m\u001b[43m \u001b[49m\u001b[43mX\u001b[49m\u001b[43m)\u001b[49m\u001b[43m)\u001b[49m\n\u001b[1;32m     28\u001b[0m \u001b[38;5;66;03m# solve for beta\u001b[39;00m\n\u001b[1;32m     29\u001b[0m beta \u001b[38;5;241m=\u001b[39m np\u001b[38;5;241m.\u001b[39mdot(np\u001b[38;5;241m.\u001b[39mdot(XtX_inv, X\u001b[38;5;241m.\u001b[39mT), Y)\n",
      "File \u001b[0;32m<__array_function__ internals>:200\u001b[0m, in \u001b[0;36minv\u001b[0;34m(*args, **kwargs)\u001b[0m\n",
      "File \u001b[0;32m/opt/conda/lib/python3.8/site-packages/numpy/linalg/linalg.py:538\u001b[0m, in \u001b[0;36minv\u001b[0;34m(a)\u001b[0m\n\u001b[1;32m    536\u001b[0m signature \u001b[38;5;241m=\u001b[39m \u001b[38;5;124m'\u001b[39m\u001b[38;5;124mD->D\u001b[39m\u001b[38;5;124m'\u001b[39m \u001b[38;5;28;01mif\u001b[39;00m isComplexType(t) \u001b[38;5;28;01melse\u001b[39;00m \u001b[38;5;124m'\u001b[39m\u001b[38;5;124md->d\u001b[39m\u001b[38;5;124m'\u001b[39m\n\u001b[1;32m    537\u001b[0m extobj \u001b[38;5;241m=\u001b[39m get_linalg_error_extobj(_raise_linalgerror_singular)\n\u001b[0;32m--> 538\u001b[0m ainv \u001b[38;5;241m=\u001b[39m \u001b[43m_umath_linalg\u001b[49m\u001b[38;5;241;43m.\u001b[39;49m\u001b[43minv\u001b[49m\u001b[43m(\u001b[49m\u001b[43ma\u001b[49m\u001b[43m,\u001b[49m\u001b[43m \u001b[49m\u001b[43msignature\u001b[49m\u001b[38;5;241;43m=\u001b[39;49m\u001b[43msignature\u001b[49m\u001b[43m,\u001b[49m\u001b[43m \u001b[49m\u001b[43mextobj\u001b[49m\u001b[38;5;241;43m=\u001b[39;49m\u001b[43mextobj\u001b[49m\u001b[43m)\u001b[49m\n\u001b[1;32m    539\u001b[0m \u001b[38;5;28;01mreturn\u001b[39;00m wrap(ainv\u001b[38;5;241m.\u001b[39mastype(result_t, copy\u001b[38;5;241m=\u001b[39m\u001b[38;5;28;01mFalse\u001b[39;00m))\n",
      "File \u001b[0;32m/opt/conda/lib/python3.8/site-packages/numpy/linalg/linalg.py:89\u001b[0m, in \u001b[0;36m_raise_linalgerror_singular\u001b[0;34m(err, flag)\u001b[0m\n\u001b[1;32m     88\u001b[0m \u001b[38;5;28;01mdef\u001b[39;00m \u001b[38;5;21m_raise_linalgerror_singular\u001b[39m(err, flag):\n\u001b[0;32m---> 89\u001b[0m     \u001b[38;5;28;01mraise\u001b[39;00m LinAlgError(\u001b[38;5;124m\"\u001b[39m\u001b[38;5;124mSingular matrix\u001b[39m\u001b[38;5;124m\"\u001b[39m)\n",
      "\u001b[0;31mLinAlgError\u001b[0m: Singular matrix"
     ]
    }
   ],
   "source": [
    "## Split into training/validation sets (75/25)\n",
    "# make vector of indices\n",
    "inds = [i + 1 for i in list(range(len(conc_dat)-1))]\n",
    "\n",
    "# shuffle randomly\n",
    "random.shuffle(inds)\n",
    "\n",
    "# take first 75%/last 25%\n",
    "train_inds = inds[:math.floor(0.75*len(conc_dat))]\n",
    "val_inds = inds[math.floor(0.75*len(conc_dat)):]\n",
    "train = np.array([conc_dat[i] for i in train_inds])\n",
    "val = np.array([conc_dat[i] for i in val_inds])\n",
    "\n",
    "# add header to training datasets\n",
    "train = np.vstack((header, train))\n",
    "\n",
    "## Build alternative models (first 7/8/9 columns)\n",
    "## Fit models to training data \n",
    "m1, _, _ = solve_beta(train[:, np.array([0,1,2,3,4,5,9])])\n",
    "m2, _, _ = solve_beta(train[:, np.array([0,1,2,3,4,5,6,9])])\n",
    "m3, _, _ = solve_beta(train[:, np.array([0,1,2,3,4,5,6,9])])\n",
    "\n",
    "## Compute MSE with test data\n",
    "\n",
    "y_ind = np.where(header == \"csMPa\")[0][0]\n",
    "Y_val = np.array(val[:,y_ind], dtype=\"float\")\n",
    "val = np.array(val[0:], dtype=\"float\")\n",
    "val = np.concatenate((np.ones((val.shape[0], 1)), val), axis=1)\n",
    "\n",
    "mse1 = sum((np.dot(val[:, np.array([0,1,2,3,4,5,6])], m1) - Y_val)**2/2)\n",
    "mse2 = sum((np.dot(val[:, np.array([0,1,2,3,4,5,6,7])], m2) - Y_val)**2/2)\n",
    "mse3 = sum((np.dot(val[:, np.array([0,1,2,3,4,5,6,7,8])], m3) - Y_val)**2/2)\n",
    "\n",
    "print(mse1)\n",
    "print(mse2)\n",
    "print(mse3)\n",
    "\n",
    "#### something is wrong with the indexing for val ####\n",
    "#### need to step through solve_beta with val ####"
   ]
  },
  {
   "cell_type": "code",
   "execution_count": 236,
   "id": "836820a0-7eb7-44ba-ae10-418688d0cbae",
   "metadata": {},
   "outputs": [
    {
     "data": {
      "text/plain": [
       "1"
      ]
     },
     "execution_count": 236,
     "metadata": {},
     "output_type": "execute_result"
    }
   ],
   "source": []
  },
  {
   "cell_type": "code",
   "execution_count": null,
   "id": "ea0144b7-95df-496d-9c39-e0aae05274ea",
   "metadata": {},
   "outputs": [],
   "source": []
  }
 ],
 "metadata": {
  "kernelspec": {
   "display_name": "Python 3 (ipykernel)",
   "language": "python",
   "name": "python3"
  },
  "language_info": {
   "codemirror_mode": {
    "name": "ipython",
    "version": 3
   },
   "file_extension": ".py",
   "mimetype": "text/x-python",
   "name": "python",
   "nbconvert_exporter": "python",
   "pygments_lexer": "ipython3",
   "version": "3.8.12"
  }
 },
 "nbformat": 4,
 "nbformat_minor": 5
}
