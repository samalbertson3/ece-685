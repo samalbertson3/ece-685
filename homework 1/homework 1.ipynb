{
 "cells": [
  {
   "cell_type": "markdown",
   "id": "beae4a20-98cb-459a-b0fe-720f9a81dcb4",
   "metadata": {},
   "source": [
    "# Problem 1a"
   ]
  },
  {
   "cell_type": "code",
   "execution_count": 87,
   "id": "1bd3f9f6-c289-419e-ba03-2d48f40e744e",
   "metadata": {},
   "outputs": [],
   "source": [
    "## Setup\n",
    "# load packages\n",
    "import numpy as np\n",
    "import csv\n",
    "import random\n",
    "import math\n",
    "\n",
    "# load data\n",
    "with open(\"Concrete_Data_Yeh.csv\") as fp:\n",
    "    f = csv.reader(fp, delimiter=\",\", quotechar='\"')\n",
    "    conc_dat = np.array([row for row in f])"
   ]
  },
  {
   "cell_type": "code",
   "execution_count": 66,
   "id": "8747a363-c312-4a62-947e-999dab35f83e",
   "metadata": {},
   "outputs": [],
   "source": [
    "## Functions\n",
    "def solve_beta(data):\n",
    "    \"\"\"Estimates beta coefficients via numpy.\"\"\"\n",
    "    # add intercept term to features\n",
    "    # separate into features vs. outputs\n",
    "    X0 = np.concatenate((np.ones((data.shape[0], 1)), data), axis=1)\n",
    "    X0[0,0] = \"(intercept)\"\n",
    "\n",
    "    header = X0[0]\n",
    "    y_ind = np.where(header == \"csMPa\")[0][0]\n",
    "\n",
    "    X = np.array(X0[1:, :y_ind], dtype=\"float\")\n",
    "    Y = np.array(X0[1:,y_ind], dtype=\"float\")\n",
    "\n",
    "    # solve for (X^T*X)^-1\n",
    "    XtX_inv = np.linalg.inv(np.dot(X.T, X))\n",
    "\n",
    "    # solve for beta\n",
    "    beta = np.dot(np.dot(XtX_inv, X.T), Y)\n",
    "    return beta, X, Y"
   ]
  },
  {
   "cell_type": "markdown",
   "id": "93000b5e-bbcf-4f44-9047-adc0a4d8db3a",
   "metadata": {},
   "source": [
    "# Problem 1b"
   ]
  },
  {
   "cell_type": "code",
   "execution_count": 102,
   "id": "be83fa24-84ac-4833-9a7b-b8d1a2634356",
   "metadata": {},
   "outputs": [
    {
     "ename": "IndexError",
     "evalue": "index 0 is out of bounds for axis 0 with size 0",
     "output_type": "error",
     "traceback": [
      "\u001b[0;31m---------------------------------------------------------------------------\u001b[0m",
      "\u001b[0;31mIndexError\u001b[0m                                Traceback (most recent call last)",
      "Input \u001b[0;32mIn [102]\u001b[0m, in \u001b[0;36m<module>\u001b[0;34m\u001b[0m\n\u001b[1;32m     10\u001b[0m inds_val \u001b[38;5;241m=\u001b[39m inds[(math\u001b[38;5;241m.\u001b[39mfloor(\u001b[38;5;241m0.75\u001b[39m\u001b[38;5;241m*\u001b[39m\u001b[38;5;28mlen\u001b[39m(X))):]\n\u001b[1;32m     12\u001b[0m \u001b[38;5;66;03m## Build alternative models (first 7/8/9 columns)\u001b[39;00m\n\u001b[1;32m     13\u001b[0m \u001b[38;5;66;03m## Fit models to training data \u001b[39;00m\n\u001b[0;32m---> 14\u001b[0m m1, _, _ \u001b[38;5;241m=\u001b[39m \u001b[43msolve_beta\u001b[49m\u001b[43m(\u001b[49m\u001b[43mconc_dat\u001b[49m\u001b[43m[\u001b[49m\u001b[43minds_train\u001b[49m\u001b[43m,\u001b[49m\u001b[43m \u001b[49m\u001b[43m:\u001b[49m\u001b[38;5;241;43m7\u001b[39;49m\u001b[43m]\u001b[49m\u001b[43m)\u001b[49m\n\u001b[1;32m     15\u001b[0m m2, _, _ \u001b[38;5;241m=\u001b[39m solve_beta(conc_dat[inds_train, :\u001b[38;5;241m8\u001b[39m])\n\u001b[1;32m     16\u001b[0m m3, _, _ \u001b[38;5;241m=\u001b[39m solve_beta(conc_dat[inds_train, :])\n",
      "Input \u001b[0;32mIn [66]\u001b[0m, in \u001b[0;36msolve_beta\u001b[0;34m(data)\u001b[0m\n\u001b[1;32m     17\u001b[0m X0[\u001b[38;5;241m0\u001b[39m,\u001b[38;5;241m0\u001b[39m] \u001b[38;5;241m=\u001b[39m \u001b[38;5;124m\"\u001b[39m\u001b[38;5;124m(intercept)\u001b[39m\u001b[38;5;124m\"\u001b[39m\n\u001b[1;32m     19\u001b[0m header \u001b[38;5;241m=\u001b[39m X0[\u001b[38;5;241m0\u001b[39m]\n\u001b[0;32m---> 20\u001b[0m y_ind \u001b[38;5;241m=\u001b[39m \u001b[43mnp\u001b[49m\u001b[38;5;241;43m.\u001b[39;49m\u001b[43mwhere\u001b[49m\u001b[43m(\u001b[49m\u001b[43mheader\u001b[49m\u001b[43m \u001b[49m\u001b[38;5;241;43m==\u001b[39;49m\u001b[43m \u001b[49m\u001b[38;5;124;43m\"\u001b[39;49m\u001b[38;5;124;43mcsMPa\u001b[39;49m\u001b[38;5;124;43m\"\u001b[39;49m\u001b[43m)\u001b[49m\u001b[43m[\u001b[49m\u001b[38;5;241;43m0\u001b[39;49m\u001b[43m]\u001b[49m\u001b[43m[\u001b[49m\u001b[38;5;241;43m0\u001b[39;49m\u001b[43m]\u001b[49m\n\u001b[1;32m     22\u001b[0m X \u001b[38;5;241m=\u001b[39m np\u001b[38;5;241m.\u001b[39marray(X0[\u001b[38;5;241m1\u001b[39m:, :y_ind], dtype\u001b[38;5;241m=\u001b[39m\u001b[38;5;124m\"\u001b[39m\u001b[38;5;124mfloat\u001b[39m\u001b[38;5;124m\"\u001b[39m)\n\u001b[1;32m     23\u001b[0m Y \u001b[38;5;241m=\u001b[39m np\u001b[38;5;241m.\u001b[39marray(X0[\u001b[38;5;241m1\u001b[39m:,y_ind], dtype\u001b[38;5;241m=\u001b[39m\u001b[38;5;124m\"\u001b[39m\u001b[38;5;124mfloat\u001b[39m\u001b[38;5;124m\"\u001b[39m)\n",
      "\u001b[0;31mIndexError\u001b[0m: index 0 is out of bounds for axis 0 with size 0"
     ]
    }
   ],
   "source": [
    "## Split into training/validation sets (75/25)\n",
    "# make vector of indices\n",
    "inds = [i + 1 for i in list(range(len(X)))]\n",
    "\n",
    "# shuffle randomly\n",
    "random.shuffle(inds)\n",
    "\n",
    "# take first 75%/last 25%\n",
    "inds_train = inds[:(math.floor(0.75*len(X)))]\n",
    "inds_val = inds[(math.floor(0.75*len(X))):]\n",
    "\n",
    "## Build alternative models (first 7/8/9 columns)\n",
    "## Fit models to training data \n",
    "m1, _, _ = solve_beta(conc_dat[inds_train, :7])\n",
    "m2, _, _ = solve_beta(conc_dat[inds_train, :8])\n",
    "m3, _, _ = solve_beta(conc_dat[inds_train, :])\n",
    "\n",
    "## Compute MSE with test data"
   ]
  },
  {
   "cell_type": "code",
   "execution_count": null,
   "id": "836820a0-7eb7-44ba-ae10-418688d0cbae",
   "metadata": {},
   "outputs": [],
   "source": []
  }
 ],
 "metadata": {
  "kernelspec": {
   "display_name": "Python 3 (ipykernel)",
   "language": "python",
   "name": "python3"
  },
  "language_info": {
   "codemirror_mode": {
    "name": "ipython",
    "version": 3
   },
   "file_extension": ".py",
   "mimetype": "text/x-python",
   "name": "python",
   "nbconvert_exporter": "python",
   "pygments_lexer": "ipython3",
   "version": "3.8.12"
  }
 },
 "nbformat": 4,
 "nbformat_minor": 5
}
