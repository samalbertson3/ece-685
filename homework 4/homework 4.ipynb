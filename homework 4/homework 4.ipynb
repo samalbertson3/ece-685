{
 "cells": [
  {
   "cell_type": "markdown",
   "id": "aa0128c7-b71c-40ca-bff1-17cb2017a9e7",
   "metadata": {},
   "source": [
    "# Problem 1"
   ]
  },
  {
   "cell_type": "code",
   "execution_count": null,
   "id": "a41159fe-d5f8-4d84-a888-66b3716237a3",
   "metadata": {},
   "outputs": [],
   "source": []
  },
  {
   "cell_type": "markdown",
   "id": "3037e831-b03b-48dd-b602-4c1071ddcbfe",
   "metadata": {},
   "source": [
    "# Problem 2"
   ]
  },
  {
   "cell_type": "code",
   "execution_count": 20,
   "id": "fa77913c-5657-4e4a-8b5a-fa43b8a35b6a",
   "metadata": {},
   "outputs": [],
   "source": [
    "# load in fashion MNIST dataset\n",
    "\n",
    "import torch\n",
    "from torch.utils.data import Dataset\n",
    "from torchvision import datasets\n",
    "from torchvision.transforms import ToTensor\n",
    "import matplotlib.pyplot as plt\n",
    "import os\n",
    "import pandas as pd\n",
    "from torchvision.io import read_image\n",
    "from torch.utils.data import DataLoader, random_split\n",
    "\n",
    "# download data\n",
    "train = datasets.FashionMNIST(\n",
    "    root=\"data\",\n",
    "    train=True,\n",
    "    download=True,\n",
    "    transform=ToTensor()\n",
    ")\n",
    "\n",
    "test = datasets.FashionMNIST(\n",
    "    root=\"data\",\n",
    "    train=False,\n",
    "    download=True,\n",
    "    transform=ToTensor()\n",
    ")\n",
    "\n",
    "# split data into training/test\n",
    "# split training data into training/validation\n",
    "# set up data loaders\n",
    "train_split = int(0.8 * len(train))\n",
    "val_split = len(train) - train_split\n",
    "train, val = random_split(train, [train_split, val_split])\n",
    "train_loader = DataLoader(train, batch_size=64, shuffle=True)\n",
    "test_loader = DataLoader(test, batch_size=64, shuffle=True)"
   ]
  },
  {
   "cell_type": "code",
   "execution_count": 1,
   "id": "2d445363-f2c9-4345-b85e-2b63986e2414",
   "metadata": {},
   "outputs": [],
   "source": [
    "# build autoencoder\n",
    "# generate 10 images per class (dress, coat, sandal, sneaker)\n",
    "# generate manifold plot (tips in homework)"
   ]
  },
  {
   "cell_type": "code",
   "execution_count": null,
   "id": "b40ff79c-96a0-4fe1-acdc-af5e8c10a380",
   "metadata": {},
   "outputs": [],
   "source": []
  },
  {
   "cell_type": "code",
   "execution_count": null,
   "id": "0f8acc39-257a-4881-987a-17f27fa7d919",
   "metadata": {},
   "outputs": [],
   "source": []
  }
 ],
 "metadata": {
  "kernelspec": {
   "display_name": "Python 3 (ipykernel)",
   "language": "python",
   "name": "python3"
  },
  "language_info": {
   "codemirror_mode": {
    "name": "ipython",
    "version": 3
   },
   "file_extension": ".py",
   "mimetype": "text/x-python",
   "name": "python",
   "nbconvert_exporter": "python",
   "pygments_lexer": "ipython3",
   "version": "3.8.12"
  }
 },
 "nbformat": 4,
 "nbformat_minor": 5
}
