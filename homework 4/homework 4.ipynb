{
 "cells": [
  {
   "cell_type": "markdown",
   "id": "aa0128c7-b71c-40ca-bff1-17cb2017a9e7",
   "metadata": {},
   "source": [
    "# Problem 1"
   ]
  },
  {
   "cell_type": "code",
   "execution_count": null,
   "id": "a41159fe-d5f8-4d84-a888-66b3716237a3",
   "metadata": {},
   "outputs": [],
   "source": []
  },
  {
   "cell_type": "markdown",
   "id": "3037e831-b03b-48dd-b602-4c1071ddcbfe",
   "metadata": {},
   "source": [
    "# Problem 2"
   ]
  },
  {
   "cell_type": "code",
   "execution_count": 46,
   "id": "fa77913c-5657-4e4a-8b5a-fa43b8a35b6a",
   "metadata": {},
   "outputs": [],
   "source": [
    "# load in fashion MNIST dataset\n",
    "\n",
    "import torch\n",
    "from torch.utils.data import Dataset\n",
    "from torchvision import datasets\n",
    "from torchvision.transforms import ToTensor\n",
    "import matplotlib.pyplot as plt\n",
    "import os\n",
    "import pandas as pd\n",
    "from torchvision.io import read_image\n",
    "from torch.utils.data import DataLoader, random_split\n",
    "import torch.nn as nn\n",
    "\n",
    "# download data\n",
    "train = datasets.FashionMNIST(\n",
    "    root=\"data\",\n",
    "    train=True,\n",
    "    download=True,\n",
    "    transform=ToTensor()\n",
    ")\n",
    "\n",
    "test = datasets.FashionMNIST(\n",
    "    root=\"data\",\n",
    "    train=False,\n",
    "    download=True,\n",
    "    transform=ToTensor()\n",
    ")\n",
    "\n",
    "# split data into training/test\n",
    "# split training data into training/validation\n",
    "# set up data loaders\n",
    "train_split = int(0.8 * len(train))\n",
    "val_split = len(train) - train_split\n",
    "train, val = random_split(train, [train_split, val_split])\n",
    "train_loader = DataLoader(train, batch_size=1, shuffle=True)\n",
    "test_loader = DataLoader(test, batch_size=64, shuffle=True)\n",
    "\n",
    "# labels for later\n",
    "master_labels = [\"T-shirt\", \"Pants\", \"Pullover\" , \"Dress\", \"Coat\", \"Sandal\", \"Shirt\", \"Sneaker\", \"Bag\", \"Ankle Boot\"]"
   ]
  },
  {
   "cell_type": "code",
   "execution_count": 47,
   "id": "2d445363-f2c9-4345-b85e-2b63986e2414",
   "metadata": {},
   "outputs": [
    {
     "name": "stdout",
     "output_type": "stream",
     "text": [
      "T-shirt\n",
      "torch.Size([1, 1, 28, 28])\n"
     ]
    },
    {
     "data": {
      "text/plain": [
       "<matplotlib.image.AxesImage at 0x7fdfa7a14f10>"
      ]
     },
     "execution_count": 47,
     "metadata": {},
     "output_type": "execute_result"
    },
    {
     "data": {
      "image/png": "[encoded data removed]",
      "text/plain": [
       "<Figure size 432x288 with 1 Axes>"
      ]
     },
     "metadata": {
      "needs_background": "light"
     },
     "output_type": "display_data"
    }
   ],
   "source": [
    "img, lab = next(iter(train_loader))\n",
    "print(master_labels[lab])\n",
    "print(img.shape)\n",
    "plt.imshow(img.squeeze())"
   ]
  },
  {
   "cell_type": "code",
   "execution_count": 48,
   "id": "c970e6c3-c74f-4de9-b9a6-eed4b993beec",
   "metadata": {},
   "outputs": [],
   "source": [
    "# build autoencoder\n",
    "\n",
    "class FashioNet(nn.Module):\n",
    "    def __init__(self):\n",
    "        super(CorruptioNet, self).__init__()\n",
    "        \n",
    "        self.Encoder = nn.Sequential(\n",
    "            nn.Conv2d(1, 16, 7, stride=1, padding=3),\n",
    "            nn.BatchNorm2d(16),\n",
    "            nn.LeakyReLU(),\n",
    "            nn.Dropout(0.5),\n",
    "            nn.Conv2d(16, 8, 5, stride=1, padding=2),\n",
    "            nn.BatchNorm2d(8),\n",
    "            nn.LeakyReLU(),\n",
    "            nn.Dropout(0.5)\n",
    "        )\n",
    "        \n",
    "        self.Decoder = nn.Sequential(\n",
    "            nn.ConvTranspose2d(8, 16, 3, stride=1, padding=1),\n",
    "            nn.BatchNorm2d(16),\n",
    "            nn.LeakyReLU(),\n",
    "            nn.Dropout(0.5),\n",
    "            nn.ConvTranspose2d(16, 1, 1, stride=1, padding=0),\n",
    "            nn.BatchNorm2d(1),\n",
    "            nn.Sigmoid(),\n",
    "            nn.Dropout(0.5)\n",
    "        )\n",
    "        \n",
    "        self.c1 = nn.ConvTranspose2d(1, 1, 1, stride=1, padding=0)\n",
    "        self.a1 = nn.Sigmoid()\n",
    "        self.bn1 = nn.BatchNorm2d(1)\n",
    "        self.d1 = nn.Dropout(0.5)\n",
    "        \n",
    "    def Decoder2(self, x, x_old):\n",
    "        x = self.c1(x + x_old)\n",
    "        #x = self.c1(x)\n",
    "        x = self.bn1(x)\n",
    "        x = self.d1(x)\n",
    "        x = self.a1(x)\n",
    "        x = torch.round(x * 255) # rescaling to RGB range\n",
    "        return(x)\n",
    "    \n",
    "    def forward(self, x, lab):\n",
    "        x_old = x\n",
    "        x_r = x[:,0,:,:].unsqueeze(1)\n",
    "        x_g = x[:,1,:,:].unsqueeze(1)\n",
    "        x_b = x[:,2,:,:].unsqueeze(1)\n",
    "        \n",
    "        x_r = self.Encoder(x_r)\n",
    "        x_g = self.Encoder(x_g)\n",
    "        x_b = self.Encoder(x_b)\n",
    "        \n",
    "        x_r = self.Decoder(x_r)\n",
    "        x_g = self.Decoder(x_g)\n",
    "        x_b = self.Decoder(x_b)\n",
    "        \n",
    "        x_r = self.Decoder2(x_r, x_old[:,0,:,:].unsqueeze(1))\n",
    "        x_g = self.Decoder2(x_g, x_old[:,1,:,:].unsqueeze(1))\n",
    "        x_b = self.Decoder2(x_b, x_old[:,2,:,:].unsqueeze(1))\n",
    "        \n",
    "        x = torch.cat((x_r, x_g, x_b), dim=1)\n",
    "        \n",
    "        return x"
   ]
  },
  {
   "cell_type": "code",
   "execution_count": 49,
   "id": "fbeaf062-5f8a-4fa1-9bff-ba8c087b1a54",
   "metadata": {},
   "outputs": [],
   "source": [
    "# define training function\n",
    "\n",
    "def train_model(model, train_loader, val_loader, epoch):\n",
    "    start = time()\n",
    "    \n",
    "    # define loss function\n",
    "    # set optimizer\n",
    "    #criterion = nn.MSELoss()\n",
    "    criterion = nn.L1Loss()\n",
    "    optimizer = optim.Adam(model.parameters(), lr=1e-11, weight_decay=0)\n",
    "    \n",
    "    model = model.to(device)\n",
    "    \n",
    "    # run training loop\n",
    "    losses = []\n",
    "    val_losses = []\n",
    "    min_loss = 0\n",
    "    i = 0\n",
    "    stop_flag = False\n",
    "    for batch_id, (img, lab) in enumerate(train_loader):\n",
    "        img = img.to(device)\n",
    "        lab = lab.to(device)\n",
    "\n",
    "        # training loss + gradient descent\n",
    "        print(f\"\"\"Batch {batch_id}/{len(train_loader)}\"\"\", end=\"\\r\")\n",
    "        model.train()\n",
    "        optimizer.zero_grad()\n",
    "\n",
    "        out_image = model(img, lab)\n",
    "        \n",
    "        loss = criterion(img, out_image)\n",
    "        loss.backward()\n",
    "        optimizer.step()\n",
    "        losses.append([epoch, batch_id, loss.item()/N_train])\n",
    "\n",
    "        # validation loss\n",
    "        model.eval()\n",
    "        val_loss = 0\n",
    "        N = 0\n",
    "        with torch.no_grad():\n",
    "            for _, (img, lab) in enumerate(val_loader):\n",
    "                lab = lab.to(device)\n",
    "                img = img.to(device)\n",
    "\n",
    "                N_batch = corr.size(0)\n",
    "                N += N_batch\n",
    "                \n",
    "                out_image = model(img, lab)\n",
    "                \n",
    "                loss = criterion(img, out_image)\n",
    "                \n",
    "                val_loss += loss.item()\n",
    "                break\n",
    "        val_loss = val_loss/N\n",
    "        val_losses.append([epoch, batch_id, val_loss])\n",
    "\n",
    "        # save models periodically\n",
    "        if (i % 50 == 0) & (i > 1):\n",
    "            old_model = model\n",
    "            \n",
    "            # show test image\n",
    "            losses2 = np.array(losses)\n",
    "            val_losses2 = np.array(val_losses)\n",
    "            fig, ax = plt.subplots(1,3,figsize=(10,5))\n",
    "            ax[0].plot(losses2[:,1], losses2[:,2], marker='', label=\"training\")\n",
    "            ax[0].plot(val_losses2[:,1], val_losses2[:,2], marker='', label=\"validation\")\n",
    "\n",
    "            _, (img, lab) = next(enumerate(val_loader))\n",
    "            out_image = model(img, lab)\n",
    "            plt.imshow(out_image)\n",
    "            \n",
    "            # early stopping\n",
    "            if i > 5:\n",
    "                recent_loss = np.mean(np.array(val_losses)[-50:-1,2])\n",
    "                if min_loss == 0:\n",
    "                    min_loss = recent_loss\n",
    "                elif recent_loss < min_loss:\n",
    "                    min_loss = recent_loss\n",
    "                elif recent_loss > min_loss:\n",
    "                    stop_flag = True\n",
    "                    return old_model, losses, val_losses, stop_flag\n",
    "        \n",
    "        i += 1\n",
    "\n",
    "    print(time() - start)\n",
    "    return model, losses, val_losses, stop_flag"
   ]
  },
  {
   "cell_type": "code",
   "execution_count": 50,
   "id": "0f8acc39-257a-4881-987a-17f27fa7d919",
   "metadata": {},
   "outputs": [],
   "source": [
    "# generate 10 images per class (dress, coat, sandal, sneaker)\n",
    "# generate manifold plot (tips in homework)\n",
    "\n",
    "label_embed = torch.zeros(img.shape[0], 10, img.shape[2], img.shape[3], device=img.device)\n",
    "label_embed[range(img.shape[0]), lab] = 1.0  # One-hot encoding for labels\n",
    "\n",
    "img = torch.cat((img, label_embed), dim=1)"
   ]
  },
  {
   "cell_type": "code",
   "execution_count": 51,
   "id": "269c02c2-06ea-4655-9865-30f85b606d35",
   "metadata": {},
   "outputs": [
    {
     "data": {
      "text/plain": [
       "torch.Size([1, 11, 28, 28])"
      ]
     },
     "execution_count": 51,
     "metadata": {},
     "output_type": "execute_result"
    }
   ],
   "source": [
    "img.shape"
   ]
  },
  {
   "cell_type": "code",
   "execution_count": null,
   "id": "629dad2d-dfd3-4909-a70e-50d115679cfb",
   "metadata": {},
   "outputs": [],
   "source": []
  }
 ],
 "metadata": {
  "kernelspec": {
   "display_name": "Python 3 (ipykernel)",
   "language": "python",
   "name": "python3"
  },
  "language_info": {
   "codemirror_mode": {
    "name": "ipython",
    "version": 3
   },
   "file_extension": ".py",
   "mimetype": "text/x-python",
   "name": "python",
   "nbconvert_exporter": "python",
   "pygments_lexer": "ipython3",
   "version": "3.8.12"
  }
 },
 "nbformat": 4,
 "nbformat_minor": 5
}
