{
 "cells": [
  {
   "cell_type": "code",
   "execution_count": 23,
   "id": "c9f4d12b-21d4-4b09-8953-f248f376f03c",
   "metadata": {},
   "outputs": [],
   "source": [
    "%matplotlib inline\n",
    "\n",
    "import torch\n",
    "import torch.nn as nn\n",
    "import torch.nn.functional as F\n",
    "import torch.optim as optim\n",
    "from torch.utils.data import DataLoader, random_split\n",
    "\n",
    "import torchvision\n",
    "import torchvision.transforms as transforms\n",
    "from torchvision.utils import make_grid\n",
    "\n",
    "import matplotlib.pyplot as plt\n",
    "import numpy as np\n",
    "import os\n",
    "from tsne import *"
   ]
  },
  {
   "cell_type": "code",
   "execution_count": 24,
   "id": "9bde8f85-466c-4758-b86c-3420894b2a33",
   "metadata": {},
   "outputs": [],
   "source": [
    "# define model architecture\n",
    "\n",
    "class ConditioNet(nn.Module):\n",
    "    def __init__(self, n_class, n_in, n_hid, z_dim):\n",
    "        super(ConditioNet, self).__init__()\n",
    "\n",
    "        self.enc1 = nn.Linear(n_in + n_class, n_hid)\n",
    "        self.enc2m = nn.Linear(n_hid, z_dim)\n",
    "        self.enc2s = nn.Linear(n_hid, z_dim)\n",
    "        self.dec1 = nn.Linear(z_dim, n_hid)\n",
    "        self.dec2 = nn.Linear(n_hid, n_in)\n",
    "\n",
    "    def encode(self, x):\n",
    "        h1 = F.relu(self.enc1(x))\n",
    "        return self.enc2m(h1), self.enc2s(h1)\n",
    "\n",
    "    def reparameterize(self, mu, logvar):        \n",
    "        stdev = torch.exp(0.5*logvar)\n",
    "        eps = torch.randn_like(stdev)\n",
    "        return mu + eps*stdev\n",
    "\n",
    "    def decode(self, z):\n",
    "        h3 = F.relu(self.dec1(z))\n",
    "        return torch.sigmoid(self.dec2(h3))\n",
    "\n",
    "    def forward(self, x):\n",
    "        mu, logvar = self.encode(x)\n",
    "        z = self.reparameterize(mu, logvar)\n",
    "        return self.decode(z), mu, logvar"
   ]
  },
  {
   "cell_type": "code",
   "execution_count": 25,
   "id": "476d21e7-bddf-4bea-a8b3-cdee678a3ad7",
   "metadata": {},
   "outputs": [
    {
     "name": "stdout",
     "output_type": "stream",
     "text": [
      "Best parameters: n_hid = 100.0, z_dim = 25.0, lr = 0.001\n"
     ]
    },
    {
     "data": {
      "text/plain": [
       "<All keys matched successfully>"
      ]
     },
     "execution_count": 25,
     "metadata": {},
     "output_type": "execute_result"
    }
   ],
   "source": [
    "# load best model\n",
    "n_class = 10\n",
    "n_in = 28*28\n",
    "hyperparams = torch.load(\"hyperparameters.pth\")\n",
    "best_ind = torch.argmin(hyperparams[:,3])\n",
    "n_hid_best, z_dim_best, lr_best = [float(elem) for elem in hyperparams[best_ind, :3]]\n",
    "print(f'Best parameters: n_hid = {n_hid_best}, z_dim = {z_dim_best}, lr = {10**lr_best}')\n",
    "\n",
    "best_cvae = ConditioNet(int(n_class), int(n_in), int(n_hid_best), int(z_dim_best))\n",
    "best_cvae.load_state_dict(torch.load(\"best_cVAE_weights.pth\"))"
   ]
  },
  {
   "cell_type": "code",
   "execution_count": 91,
   "id": "503f691b-de0f-4455-976a-007dd69faea5",
   "metadata": {},
   "outputs": [],
   "source": [
    "# set up encoded dataset\n",
    "\n",
    "# Labels for later\n",
    "master_labels = [\"T-shirt\", \"Pants\", \"Pullover\", \"Dress\", \"Coat\", \"Sandal\", \"Shirt\", \"Sneaker\", \"Bag\", \"Ankle Boot\"]\n",
    "\n",
    "# Load the FashionMNIST dataset\n",
    "dataset = torchvision.datasets.FashionMNIST(root='../data', train=True, download=True, transform=transforms.Compose([transforms.ToTensor()]))\n",
    "\n",
    "# set up data loader\n",
    "# extract data\n",
    "data_loader = DataLoader(dataset, batch_size=1024, shuffle=True, num_workers=0)\n",
    "_, (data_big, target_big) = next(enumerate(data_loader))\n",
    "\n",
    "data = torch.empty(0,1,28,28)\n",
    "target = torch.empty(0)\n",
    "\n",
    "for label in [\"Dress\", \"Coat\", \"Sandal\", \"Sneaker\"]:\n",
    "    # subset to label\n",
    "    # pick first ten elements\n",
    "    label_num = master_labels.index(label)\n",
    "    inds = torch.nonzero(target_big == label_num).squeeze()[:32]\n",
    "    data_sub = data_big[inds,:,:,:]\n",
    "    target_sub = target_big[inds]\n",
    "    \n",
    "    # stack on tensor\n",
    "    data = torch.cat((data, data_sub))\n",
    "    target = torch.cat((target, target_sub))\n",
    "    \n",
    "# encode to latent representations\n",
    "data = data.view(data.size(0),-1)\n",
    "target_onehot = torch.zeros(data.shape[0], 10)\n",
    "target_onehot[range(data.shape[0]), target.long()] = 1\n",
    "data_adj = torch.cat((data, target_onehot), dim=1)\n",
    "data_enc, _, _ = best_cvae(data_adj)"
   ]
  },
  {
   "cell_type": "code",
   "execution_count": 92,
   "id": "093737ae-a9c4-4ff4-b7cf-71f2ac505c7f",
   "metadata": {
    "scrolled": true,
    "tags": []
   },
   "outputs": [
    {
     "name": "stdout",
     "output_type": "stream",
     "text": [
      "Preprocessing the data using PCA...\n",
      "Computing pairwise distances...\n",
      "Computing P-values for point 0 of 128...\n",
      "Mean value of sigma: 3.710129\n",
      "Iteration 10: error is 10.226244\n",
      "Iteration 20: error is 9.708049\n",
      "Iteration 30: error is 9.901441\n",
      "Iteration 40: error is 10.714482\n",
      "Iteration 50: error is 10.572371\n",
      "Iteration 60: error is 10.907562\n",
      "Iteration 70: error is 10.537604\n",
      "Iteration 80: error is 10.484118\n",
      "Iteration 90: error is 10.632895\n",
      "Iteration 100: error is 10.509203\n",
      "Iteration 110: error is 1.291614\n",
      "Iteration 120: error is 0.892301\n",
      "Iteration 130: error is 0.612041\n",
      "Iteration 140: error is 0.400936\n",
      "Iteration 150: error is 0.252281\n",
      "Iteration 160: error is 0.211800\n",
      "Iteration 170: error is 0.184768\n",
      "Iteration 180: error is 0.169072\n",
      "Iteration 190: error is 0.163031\n",
      "Iteration 200: error is 0.161562\n",
      "Iteration 210: error is 0.159323\n",
      "Iteration 220: error is 0.158797\n",
      "Iteration 230: error is 0.158376\n",
      "Iteration 240: error is 0.157922\n",
      "Iteration 250: error is 0.157491\n",
      "Iteration 260: error is 0.157051\n",
      "Iteration 270: error is 0.156664\n",
      "Iteration 280: error is 0.156375\n",
      "Iteration 290: error is 0.156129\n",
      "Iteration 300: error is 0.155942\n",
      "Iteration 310: error is 0.155818\n",
      "Iteration 320: error is 0.155723\n",
      "Iteration 330: error is 0.155648\n",
      "Iteration 340: error is 0.155596\n",
      "Iteration 350: error is 0.155557\n",
      "Iteration 360: error is 0.155530\n",
      "Iteration 370: error is 0.155514\n",
      "Iteration 380: error is 0.155503\n",
      "Iteration 390: error is 0.155494\n",
      "Iteration 400: error is 0.155489\n",
      "Iteration 410: error is 0.155485\n",
      "Iteration 420: error is 0.155482\n",
      "Iteration 430: error is 0.155480\n",
      "Iteration 440: error is 0.155479\n",
      "Iteration 450: error is 0.155478\n",
      "Iteration 460: error is 0.155478\n",
      "Iteration 470: error is 0.155477\n",
      "Iteration 480: error is 0.155477\n",
      "Iteration 490: error is 0.155477\n",
      "Iteration 500: error is 0.155477\n",
      "Iteration 510: error is 0.155477\n",
      "Iteration 520: error is 0.155477\n",
      "Iteration 530: error is 0.155477\n",
      "Iteration 540: error is 0.155477\n",
      "Iteration 550: error is 0.155477\n",
      "Iteration 560: error is 0.155477\n",
      "Iteration 570: error is 0.155477\n",
      "Iteration 580: error is 0.155477\n",
      "Iteration 590: error is 0.155477\n",
      "Iteration 600: error is 0.155477\n",
      "Iteration 610: error is 0.155477\n",
      "Iteration 620: error is 0.155477\n",
      "Iteration 630: error is 0.155477\n",
      "Iteration 640: error is 0.155477\n",
      "Iteration 650: error is 0.155477\n",
      "Iteration 660: error is 0.155477\n",
      "Iteration 670: error is 0.155477\n",
      "Iteration 680: error is 0.155477\n",
      "Iteration 690: error is 0.155477\n",
      "Iteration 700: error is 0.155477\n",
      "Iteration 710: error is 0.155477\n",
      "Iteration 720: error is 0.155477\n",
      "Iteration 730: error is 0.155477\n",
      "Iteration 740: error is 0.155477\n",
      "Iteration 750: error is 0.155477\n",
      "Iteration 760: error is 0.155477\n",
      "Iteration 770: error is 0.155477\n",
      "Iteration 780: error is 0.155477\n",
      "Iteration 790: error is 0.155477\n",
      "Iteration 800: error is 0.155477\n",
      "Iteration 810: error is 0.155477\n",
      "Iteration 820: error is 0.155477\n",
      "Iteration 830: error is 0.155477\n",
      "Iteration 840: error is 0.155477\n",
      "Iteration 850: error is 0.155477\n",
      "Iteration 860: error is 0.155477\n",
      "Iteration 870: error is 0.155477\n",
      "Iteration 880: error is 0.155477\n",
      "Iteration 890: error is 0.155477\n",
      "Iteration 900: error is 0.155477\n",
      "Iteration 910: error is 0.155477\n",
      "Iteration 920: error is 0.155477\n",
      "Iteration 930: error is 0.155477\n",
      "Iteration 940: error is 0.155477\n",
      "Iteration 950: error is 0.155477\n",
      "Iteration 960: error is 0.155477\n",
      "Iteration 970: error is 0.155477\n",
      "Iteration 980: error is 0.155477\n",
      "Iteration 990: error is 0.155477\n",
      "Iteration 1000: error is 0.155477\n"
     ]
    }
   ],
   "source": [
    "xys = tsne(data_enc.detach().numpy(), initial_dims=784)"
   ]
  },
  {
   "cell_type": "code",
   "execution_count": 93,
   "id": "b3af6a3f-bf4a-45e2-be00-915367278ee4",
   "metadata": {},
   "outputs": [
    {
     "data": {
      "image/png": "[encoded data removed]",
      "text/plain": [
       "<Figure size 432x288 with 2 Axes>"
      ]
     },
     "metadata": {
      "needs_background": "light"
     },
     "output_type": "display_data"
    }
   ],
   "source": [
    "plt.scatter(xys[:, 0], xys[:, 1], c=target, cmap='viridis', marker='o')\n",
    "\n",
    "# Add labels and title\n",
    "plt.xlabel('X-axis')\n",
    "plt.ylabel('Y-axis')\n",
    "plt.title('Scatter Plot with Class Colors')\n",
    "\n",
    "# Add colorbar\n",
    "cbar = plt.colorbar()\n",
    "cbar.set_label('Class')\n",
    "\n",
    "# Show the plot\n",
    "plt.show()"
   ]
  },
  {
   "cell_type": "code",
   "execution_count": null,
   "id": "5ca07117-3f97-4904-b7bb-a8c5cdf50b05",
   "metadata": {},
   "outputs": [],
   "source": []
  }
 ],
 "metadata": {
  "kernelspec": {
   "display_name": "Python 3 (ipykernel)",
   "language": "python",
   "name": "python3"
  },
  "language_info": {
   "codemirror_mode": {
    "name": "ipython",
    "version": 3
   },
   "file_extension": ".py",
   "mimetype": "text/x-python",
   "name": "python",
   "nbconvert_exporter": "python",
   "pygments_lexer": "ipython3",
   "version": "3.8.12"
  }
 },
 "nbformat": 4,
 "nbformat_minor": 5
}
