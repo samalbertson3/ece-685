{
 "cells": [
  {
   "cell_type": "markdown",
   "id": "33f12a0d-43d5-4c18-8680-5f4f9874fdfb",
   "metadata": {},
   "source": [
    "# Problem 2"
   ]
  },
  {
   "cell_type": "code",
   "execution_count": 27,
   "id": "25dc4d49-4877-4e7b-b1c0-e02adf2c3232",
   "metadata": {},
   "outputs": [],
   "source": [
    "## setup\n",
    "\n",
    "# load libraries\n",
    "import torch\n",
    "import torch.nn as nn\n",
    "import torch.nn.functional as F\n",
    "import torch.optim\n",
    "import torchvision\n",
    "import torchvision.transforms as transforms\n",
    "import torch.optim as optim\n",
    "import matplotlib.pyplot as plt\n",
    "import numpy as np\n",
    "import pandas as pd\n",
    "\n",
    "# load data\n",
    "qual_r_raw = pd.read_csv(\"winequality-red.csv\", delimiter=\";\")\n",
    "qual_w_raw = pd.read_csv(\"winequality-white.csv\", delimiter=\";\")\n",
    "\n",
    "qual_r = torch.from_numpy(qual_r_raw.values)\n",
    "qual_w = torch.from_numpy(qual_w_raw.values)"
   ]
  },
  {
   "cell_type": "code",
   "execution_count": 24,
   "id": "551949e0-c3a6-46c0-86fd-883188fbffba",
   "metadata": {},
   "outputs": [],
   "source": [
    "# define model architecture"
   ]
  },
  {
   "cell_type": "code",
   "execution_count": null,
   "id": "3eb4c7f7-a7c2-4e66-8340-49e413bc4814",
   "metadata": {},
   "outputs": [],
   "source": []
  }
 ],
 "metadata": {
  "kernelspec": {
   "display_name": "Python 3 (ipykernel)",
   "language": "python",
   "name": "python3"
  },
  "language_info": {
   "codemirror_mode": {
    "name": "ipython",
    "version": 3
   },
   "file_extension": ".py",
   "mimetype": "text/x-python",
   "name": "python",
   "nbconvert_exporter": "python",
   "pygments_lexer": "ipython3",
   "version": "3.8.12"
  }
 },
 "nbformat": 4,
 "nbformat_minor": 5
}
