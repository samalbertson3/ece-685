{
 "cells": [
  {
   "cell_type": "markdown",
   "id": "33f12a0d-43d5-4c18-8680-5f4f9874fdfb",
   "metadata": {},
   "source": [
    "# Problem 2"
   ]
  },
  {
   "cell_type": "code",
   "execution_count": 61,
   "id": "25dc4d49-4877-4e7b-b1c0-e02adf2c3232",
   "metadata": {},
   "outputs": [],
   "source": [
    "## setup\n",
    "\n",
    "# load libraries\n",
    "import torch\n",
    "import torch.nn as nn\n",
    "import torch.nn.functional as F\n",
    "import torch.optim\n",
    "import torchvision\n",
    "import torchvision.transforms as transforms\n",
    "import torch.optim as optim\n",
    "import matplotlib.pyplot as plt\n",
    "import numpy as np\n",
    "import pandas as pd\n",
    "\n",
    "\n",
    "# load data\n",
    "qual_r_raw = pd.read_csv(\"winequality-red.csv\", delimiter=\";\", dtype=\"float\")\n",
    "qual_w_raw = pd.read_csv(\"winequality-white.csv\", delimiter=\";\", dtype=\"float\")\n",
    "\n",
    "header_r = qual_r_raw.columns.tolist()\n",
    "header_w = qual_w_raw.columns.tolist()\n",
    "\n",
    "qual_r = torch.from_numpy(qual_r_raw.values)\n",
    "qual_w = torch.from_numpy(qual_w_raw.values)\n",
    "\n",
    "\n",
    "# split into training/test/validation data\n",
    "## shuffle data\n",
    "## pick indexes at 64/16/20\n"
   ]
  },
  {
   "cell_type": "code",
   "execution_count": 70,
   "id": "250a2c0e-adf8-45bb-b878-08ac19c220d7",
   "metadata": {},
   "outputs": [],
   "source": [
    "# define model architecture\n",
    "\n",
    "class WiNet(nn.Module):\n",
    "    def __init__(self) -> None:\n",
    "        super().__init__()\n",
    "        self.regression = nn.Sequential(\n",
    "            nn.Linear(11, 4096),\n",
    "            nn.ReLU(inplace=True),\n",
    "            nn.Linear(4096, 512),\n",
    "            nn.ReLU(inplace=True),\n",
    "            nn.Linear(512, 2048),\n",
    "            nn.ReLU(inplace=True),\n",
    "            nn.Linear(4096, 1),\n",
    "        )\n",
    "\n",
    "    def forward(self, x: torch.Tensor) -> torch.Tensor:\n",
    "        x = self.regression(x)\n",
    "        return x"
   ]
  },
  {
   "cell_type": "code",
   "execution_count": 80,
   "id": "438f9733-c98a-49a3-90a8-5eecb9d7075f",
   "metadata": {},
   "outputs": [],
   "source": [
    "# set up model training\n",
    "\n",
    "# define predictors\n",
    "# define target\n",
    "preds_r = qual_r[:, [i for i in range(0,qual_r.shape[1]) if i != header_r.index(\"quality\")]]\n",
    "target_r = qual_r[:, header_r.index(\"quality\")]\n",
    "\n",
    "def train(model, preds, targets, epoch):\n",
    "    # set up variable storing loss values, by batch/epoch    \n",
    "    # set up loss function\n",
    "    loss = []\n",
    "    criterion = nn.MSELoss()\n",
    "    optimizer = optim.SGD(model.parameters(),lr=kwargs['lr'],momentum=kwargs['momentum'], weight_decay=kwargs['weight_decay'])\n",
    "    \n",
    "    # loop through batches\n",
    "    # calculate loss\n",
    "    # do SGD optimization\n",
    "    # save loss, by step\n",
    "    for i in range(0, target.shape[1]):\n",
    "        # grab data\n",
    "        preds = preds[i]\n",
    "        target = targets[i]\n",
    "        \n",
    "        # optimize\n",
    "        optimizer.zero_grad()\n",
    "        output = model(preds)\n",
    "        loss = criterion(output, target)\n",
    "        loss.backward()\n",
    "        optimizer.step()\n",
    "        loss.append([epoch, loss.item])\n",
    "    return loss"
   ]
  },
  {
   "cell_type": "code",
   "execution_count": 63,
   "id": "3eb4c7f7-a7c2-4e66-8340-49e413bc4814",
   "metadata": {},
   "outputs": [
    {
     "name": "stdout",
     "output_type": "stream",
     "text": [
      "['fixed acidity', 'volatile acidity', 'citric acid', 'residual sugar', 'chlorides', 'free sulfur dioxide', 'total sulfur dioxide', 'density', 'pH', 'sulphates', 'alcohol', 'quality']\n",
      "['fixed acidity', 'volatile acidity', 'citric acid', 'residual sugar', 'chlorides', 'free sulfur dioxide', 'total sulfur dioxide', 'density', 'pH', 'sulphates', 'alcohol', 'quality']\n",
      "tensor([[ 7.4000,  0.7000,  0.0000,  ...,  0.5600,  9.4000,  5.0000],\n",
      "        [ 7.8000,  0.8800,  0.0000,  ...,  0.6800,  9.8000,  5.0000],\n",
      "        [ 7.8000,  0.7600,  0.0400,  ...,  0.6500,  9.8000,  5.0000],\n",
      "        ...,\n",
      "        [ 6.3000,  0.5100,  0.1300,  ...,  0.7500, 11.0000,  6.0000],\n",
      "        [ 5.9000,  0.6450,  0.1200,  ...,  0.7100, 10.2000,  5.0000],\n",
      "        [ 6.0000,  0.3100,  0.4700,  ...,  0.6600, 11.0000,  6.0000]],\n",
      "       dtype=torch.float64)\n"
     ]
    }
   ],
   "source": [
    "m = WiNet()\n",
    "#m.forward(qual_r.float())"
   ]
  },
  {
   "cell_type": "code",
   "execution_count": null,
   "id": "dfdef99c-e43d-40fb-8047-3e7c40f2646b",
   "metadata": {},
   "outputs": [],
   "source": []
  },
  {
   "cell_type": "code",
   "execution_count": null,
   "id": "4a510c8f-eabe-4700-9003-64827fda5acd",
   "metadata": {},
   "outputs": [],
   "source": []
  }
 ],
 "metadata": {
  "kernelspec": {
   "display_name": "Python 3 (ipykernel)",
   "language": "python",
   "name": "python3"
  },
  "language_info": {
   "codemirror_mode": {
    "name": "ipython",
    "version": 3
   },
   "file_extension": ".py",
   "mimetype": "text/x-python",
   "name": "python",
   "nbconvert_exporter": "python",
   "pygments_lexer": "ipython3",
   "version": "3.8.12"
  }
 },
 "nbformat": 4,
 "nbformat_minor": 5
}
