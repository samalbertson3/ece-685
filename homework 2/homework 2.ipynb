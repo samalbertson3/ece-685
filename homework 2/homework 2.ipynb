{
 "cells": [
  {
   "cell_type": "markdown",
   "id": "33f12a0d-43d5-4c18-8680-5f4f9874fdfb",
   "metadata": {},
   "source": [
    "# Problem 2"
   ]
  },
  {
   "cell_type": "code",
   "execution_count": 196,
   "id": "25dc4d49-4877-4e7b-b1c0-e02adf2c3232",
   "metadata": {},
   "outputs": [],
   "source": [
    "## setup\n",
    "\n",
    "# load libraries\n",
    "import torch\n",
    "import torch.nn as nn\n",
    "import torch.nn.functional as F\n",
    "import torch.optim\n",
    "import torchvision\n",
    "import torchvision.transforms as transforms\n",
    "import torch.optim as optim\n",
    "import matplotlib.pyplot as plt\n",
    "import numpy as np\n",
    "import pandas as pd\n",
    "from torch.utils.data import Dataset\n",
    "\n",
    "\n",
    "# define custom data class\n",
    "class WineData(Dataset):\n",
    "    def __init__(self, data):\n",
    "        # load dataset\n",
    "        self.data = data\n",
    "        self.header = self.data.columns.tolist()\n",
    "        self.preds = torch.Tensor(self.data.drop(\"quality\", axis=1).values)\n",
    "        self.targets = torch.Tensor(self.data[[\"quality\"]].values)\n",
    "        \n",
    "    def __len__(self):\n",
    "        return len(self.preds)\n",
    "\n",
    "    def __getitem__(self, rownum):\n",
    "        preds = self.preds[rownum, :]\n",
    "        target = self.targets[rownum, :]\n",
    "\n",
    "        return preds, target\n",
    "    \n",
    "\n",
    "# load data\n",
    "qual_r_raw = pd.read_csv(\"winequality-red.csv\", delimiter=\";\", dtype=\"float\")\n",
    "qual_w_raw = pd.read_csv(\"winequality-white.csv\", delimiter=\";\", dtype=\"float\")\n",
    "\n",
    "# standardize dataset\n",
    "\n",
    "\n",
    "# split into training/test/validation data\n",
    "## shuffle data\n",
    "## pick indexes at 64/16/20\n"
   ]
  },
  {
   "cell_type": "code",
   "execution_count": 200,
   "id": "250a2c0e-adf8-45bb-b878-08ac19c220d7",
   "metadata": {},
   "outputs": [],
   "source": [
    "# define model architecture\n",
    "\n",
    "class WiNet(nn.Module):\n",
    "    def __init__(self) -> None:\n",
    "        super().__init__()\n",
    "        self.regression = nn.Sequential(\n",
    "            nn.Linear(11, 4096),\n",
    "            nn.ReLU(inplace=True),\n",
    "            nn.Linear(4096, 512),\n",
    "            nn.ReLU(inplace=True),\n",
    "            nn.Linear(512, 2048),\n",
    "            nn.ReLU(inplace=True),\n",
    "            nn.Linear(2048, 1),\n",
    "        )\n",
    "\n",
    "    def forward(self, x: torch.Tensor) -> torch.Tensor:\n",
    "        x = self.regression(x)\n",
    "        return x"
   ]
  },
  {
   "cell_type": "code",
   "execution_count": 273,
   "id": "438f9733-c98a-49a3-90a8-5eecb9d7075f",
   "metadata": {},
   "outputs": [],
   "source": [
    "# set up model training\n",
    "\n",
    "def train(model, dataset, epoch):\n",
    "    # set up variable storing loss values, by batch/epoch    \n",
    "    # set up loss function\n",
    "    losses = []\n",
    "    criterion = nn.MSELoss()\n",
    "    optimizer = optim.SGD(model.parameters(),lr=0.005,momentum=0, weight_decay=0)\n",
    "    train_loader = torch.utils.data.DataLoader(dataset, shuffle=True, batch_size=32)\n",
    "    \n",
    "    # loop through batches\n",
    "    for batch_idx, (data, target) in enumerate(train_loader):\n",
    "        optimizer.zero_grad()\n",
    "        output = model(data)\n",
    "        \n",
    "        # calculate loss\n",
    "        loss = criterion(output, target)\n",
    "        loss.backward()\n",
    "        \n",
    "        # do SGD optimization\n",
    "        optimizer.step()\n",
    "        \n",
    "        # save loss, by step\n",
    "        losses.append([epoch, loss.item()])\n",
    "    return losses"
   ]
  },
  {
   "cell_type": "code",
   "execution_count": 275,
   "id": "82fd572b-416d-40e7-90aa-c9365c9c6fee",
   "metadata": {},
   "outputs": [
    {
     "name": "stdout",
     "output_type": "stream",
     "text": [
      "[[1, 20.308671951293945], [1, 578.8284301757812], [1, 4474.51220703125], [1, 422421.25], [1, 14276022501376.0], [1, inf]]\n"
     ]
    }
   ],
   "source": [
    "## debugging section!\n",
    "\n",
    "model = WiNet()\n",
    "losses = []\n",
    "criterion = nn.MSELoss()\n",
    "optimizer = optim.SGD(model.parameters(),lr=0.0005,momentum=0, weight_decay=0)\n",
    "train_loader = torch.utils.data.DataLoader(dataset, shuffle=True, batch_size=32)\n",
    "\n",
    "i = 0\n",
    "for batch_idx, (data, target) in enumerate(train_loader):\n",
    "    optimizer.zero_grad()\n",
    "    output = model(data)\n",
    "    loss = criterion(output, target)\n",
    "    loss.backward()\n",
    "    optimizer.step()\n",
    "    losses.append([epoch, loss.item()])\n",
    "    if(i == 5):\n",
    "        break\n",
    "    i += 1\n",
    "print(losses)  # <----- exploding losses!"
   ]
  },
  {
   "cell_type": "code",
   "execution_count": null,
   "id": "b2a8294c-24fd-4df2-a837-58486f44977c",
   "metadata": {},
   "outputs": [],
   "source": [
    "# dataset = WineData(qual_r_raw)\n",
    "# model =  WiNet()\n",
    "# epoch = 1\n",
    "# losses = train(m, dataset, 1)"
   ]
  },
  {
   "cell_type": "code",
   "execution_count": null,
   "id": "459ca2f0-f53d-4a90-923a-95ee65058bfa",
   "metadata": {},
   "outputs": [],
   "source": []
  },
  {
   "cell_type": "code",
   "execution_count": null,
   "id": "2a5d2c49-ae2c-4fc7-a4c7-26c331002504",
   "metadata": {},
   "outputs": [],
   "source": []
  }
 ],
 "metadata": {
  "kernelspec": {
   "display_name": "Python 3 (ipykernel)",
   "language": "python",
   "name": "python3"
  },
  "language_info": {
   "codemirror_mode": {
    "name": "ipython",
    "version": 3
   },
   "file_extension": ".py",
   "mimetype": "text/x-python",
   "name": "python",
   "nbconvert_exporter": "python",
   "pygments_lexer": "ipython3",
   "version": "3.8.12"
  }
 },
 "nbformat": 4,
 "nbformat_minor": 5
}
