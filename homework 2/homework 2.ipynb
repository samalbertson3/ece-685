{
 "cells": [
  {
   "cell_type": "markdown",
   "id": "33f12a0d-43d5-4c18-8680-5f4f9874fdfb",
   "metadata": {},
   "source": [
    "# Problem 2"
   ]
  },
  {
   "cell_type": "code",
   "execution_count": 17,
   "id": "25dc4d49-4877-4e7b-b1c0-e02adf2c3232",
   "metadata": {},
   "outputs": [],
   "source": [
    "## setup\n",
    "\n",
    "# load libraries\n",
    "import torch\n",
    "import torch.nn as nn\n",
    "import torch.nn.functional as F\n",
    "import torch.optim\n",
    "import torchvision\n",
    "import torchvision.transforms as transforms\n",
    "import torch.optim as optim\n",
    "import matplotlib.pyplot as plt\n",
    "import numpy as np\n",
    "import pandas as pd\n",
    "from torch.utils.data import Dataset\n",
    "from sklearn.model_selection import train_test_split\n",
    "\n",
    "\n",
    "# define custom data class\n",
    "class WineData(Dataset):\n",
    "    def __init__(self, data):\n",
    "        # load dataset\n",
    "        self.data = data\n",
    "        self.header = self.data.columns.tolist()\n",
    "        self.preds = torch.Tensor(self.data.drop(\"quality\", axis=1).values)\n",
    "        self.targets = torch.Tensor(self.data[[\"quality\"]].values)\n",
    "        \n",
    "    def __len__(self):\n",
    "        return len(self.preds)\n",
    "\n",
    "    def __getitem__(self, rownum):\n",
    "        preds = self.preds[rownum, :]\n",
    "        target = self.targets[rownum, :]\n",
    "\n",
    "        return preds, target\n",
    "    \n",
    "\n",
    "# load data\n",
    "qual_r_raw = pd.read_csv(\"winequality-red.csv\", delimiter=\";\", dtype=\"float\")\n",
    "qual_w_raw = pd.read_csv(\"winequality-white.csv\", delimiter=\";\", dtype=\"float\")\n",
    "\n",
    "# split into training/test/validation data\n",
    "qual_r_train, qual_r_other = train_test_split(qual_r_raw, train_size=0.64)\n",
    "qual_r_val, qual_r_test = train_test_split(qual_r_raw, train_size=0.16/(0.16+0.2))\n",
    "                                           \n",
    "qual_w_train, qual_w_other = train_test_split(qual_w_raw, train_size=0.64)\n",
    "qual_w_val, qual_w_test = train_test_split(qual_w_raw, train_size=0.16/(0.16+0.2))\n",
    "\n",
    "# combine into final datasets\n",
    "qual_train = pd.concat([qual_r_train, qual_w_train], axis=0)\n",
    "qual_val = pd.concat([qual_r_val, qual_w_val], axis=0)\n",
    "qual_test = pd.concat([qual_r_test, qual_w_test], axis=0)"
   ]
  },
  {
   "cell_type": "code",
   "execution_count": 18,
   "id": "250a2c0e-adf8-45bb-b878-08ac19c220d7",
   "metadata": {},
   "outputs": [],
   "source": [
    "# define model architecture\n",
    "\n",
    "class WiNet(nn.Module):\n",
    "    def __init__(self) -> None:\n",
    "        super().__init__()\n",
    "        self.regression = nn.Sequential(\n",
    "            nn.Linear(11, 128),\n",
    "            nn.ReLU(inplace=True),\n",
    "            nn.Linear(128, 64),\n",
    "            nn.ReLU(inplace=True),\n",
    "            nn.Linear(64, 128),\n",
    "            nn.ReLU(inplace=True),\n",
    "            nn.Linear(128, 1),\n",
    "        )\n",
    "\n",
    "    def forward(self, x: torch.Tensor) -> torch.Tensor:\n",
    "        x = self.regression(x)\n",
    "        return x"
   ]
  },
  {
   "cell_type": "code",
   "execution_count": 33,
   "id": "438f9733-c98a-49a3-90a8-5eecb9d7075f",
   "metadata": {},
   "outputs": [],
   "source": [
    "# set up model training\n",
    "\n",
    "def train(model, dataset, epoch):\n",
    "    # set up variable storing loss values, by batch/epoch    \n",
    "    # set up loss function\n",
    "    losses = []\n",
    "    criterion = nn.MSELoss()\n",
    "    optimizer = optim.SGD(model.parameters(),lr=0.0005,momentum=0, weight_decay=0)\n",
    "    train_loader = torch.utils.data.DataLoader(dataset, shuffle=True, batch_size=32)\n",
    "    \n",
    "    # loop through batches\n",
    "    i = 0\n",
    "    for batch_id, (data, target) in enumerate(train_loader):\n",
    "        optimizer.zero_grad()\n",
    "        output = model(data)\n",
    "        loss = criterion(output, target)\n",
    "        loss.backward()\n",
    "        optimizer.step()\n",
    "\n",
    "        train_loss = 0\n",
    "        if batch_id == 0:\n",
    "            losses = torch.Tensor([[1, batch_id, loss, train_loss]])\n",
    "        else:\n",
    "            losses = torch.cat((losses, torch.Tensor([[1, batch_id, loss, train_loss]])), dim=0)\n",
    "\n",
    "        i += 1\n",
    "        \n",
    "    # plt.plot(losses[:,1].numpy(), np.log(losses[:,2].numpy()), marker='o')\n",
    "    plt.plot(losses[:,1].numpy(), losses[:,2].numpy(), marker='o')\n",
    "    plt.plot(losses[:,1].numpy(), losses[:,3].numpy(), marker='o')\n",
    "    plt.xlabel(\"Batch #\")\n",
    "    plt.ylabel(\"Log-loss (MSE)\")\n",
    "    plt.title(\"Training loss vs. mini-batch\")\n",
    "    \n",
    "    return losses, model, plt.gcf"
   ]
  },
  {
   "cell_type": "code",
   "execution_count": 34,
   "id": "b2a8294c-24fd-4df2-a837-58486f44977c",
   "metadata": {},
   "outputs": [
    {
     "data": {
      "image/png": "[encoded data removed]",
      "text/plain": [
       "<Figure size 432x288 with 1 Axes>"
      ]
     },
     "metadata": {
      "needs_background": "light"
     },
     "output_type": "display_data"
    }
   ],
   "source": [
    "dataset = WineData(qual_train)\n",
    "model =  WiNet()\n",
    "epoch = 1\n",
    "losses, model_trained, plot = train(model, dataset, 1)"
   ]
  },
  {
   "cell_type": "code",
   "execution_count": null,
   "id": "459ca2f0-f53d-4a90-923a-95ee65058bfa",
   "metadata": {},
   "outputs": [],
   "source": []
  },
  {
   "cell_type": "code",
   "execution_count": null,
   "id": "2a5d2c49-ae2c-4fc7-a4c7-26c331002504",
   "metadata": {},
   "outputs": [],
   "source": []
  }
 ],
 "metadata": {
  "kernelspec": {
   "display_name": "Python 3 (ipykernel)",
   "language": "python",
   "name": "python3"
  },
  "language_info": {
   "codemirror_mode": {
    "name": "ipython",
    "version": 3
   },
   "file_extension": ".py",
   "mimetype": "text/x-python",
   "name": "python",
   "nbconvert_exporter": "python",
   "pygments_lexer": "ipython3",
   "version": "3.8.12"
  }
 },
 "nbformat": 4,
 "nbformat_minor": 5
}
